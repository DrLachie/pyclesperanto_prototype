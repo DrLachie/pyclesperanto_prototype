{
 "cells": [
  {
   "cell_type": "markdown",
   "metadata": {},
   "source": [
    "# Matrix multiplication\n",
    "clEsperanto brings operations for multiplying images and matrices which are also available with numpy. Let's see how numpy performs in comparison with our OpenCL stuff. When doing similar comparisons with ImageJ, we saw more performance benefits when GPU-accelerating 3D operations compared to 2D operations. https://clij.github.io/clij-benchmarking/benchmarking_operations_jmh\n",
    "\n",
    "**Note:** benchmarking results vary heavily depending on image size, kernel size, used operations, parameters and used hardware. Use this notebook to adapt it to your use-case scenario and benchmark on your target hardware. If you have different scenarios or use-cases, you are very welcome to submit your notebook as pull-request!"
   ]
  },
  {
   "cell_type": "code",
   "execution_count": 1,
   "metadata": {},
   "outputs": [
    {
     "data": {
      "text/plain": [
       "<NVIDIA GeForce RTX 3050 Ti Laptop GPU on Platform: NVIDIA CUDA (1 refs)>"
      ]
     },
     "execution_count": 1,
     "metadata": {},
     "output_type": "execute_result"
    }
   ],
   "source": [
    "import pyclesperanto_prototype as cle\n",
    "import time\n",
    "import numpy as np\n",
    "import cupy as cp\n",
    "\n",
    "# to measure kernel execution duration properly, we need to set this flag. It will slow down exection of workflows a bit though\n",
    "cle.set_wait_for_kernel_finish(True)\n",
    "\n",
    "# selet a GPU with the following in the name. This will fallback to any other GPU if none with this name is found\n",
    "cle.select_device('RTX')"
   ]
  },
  {
   "cell_type": "markdown",
   "metadata": {},
   "source": [
    "## Matrix multiplication"
   ]
  },
  {
   "cell_type": "code",
   "execution_count": 2,
   "metadata": {},
   "outputs": [],
   "source": [
    "# test data\n",
    "test_matrix1 = np.random.random([1024, 512])\n",
    "test_matrix2 = np.random.random([512, 1024])"
   ]
  },
  {
   "cell_type": "code",
   "execution_count": 3,
   "metadata": {},
   "outputs": [
    {
     "name": "stdout",
     "output_type": "stream",
     "text": [
      "clEsperanto matrix multiplication duration: 0.02301478385925293\n",
      "clEsperanto matrix multiplication duration: 0.01399540901184082\n",
      "clEsperanto matrix multiplication duration: 0.014003276824951172\n",
      "clEsperanto matrix multiplication duration: 0.01000213623046875\n",
      "clEsperanto matrix multiplication duration: 0.009001731872558594\n",
      "clEsperanto matrix multiplication duration: 0.010002374649047852\n",
      "clEsperanto matrix multiplication duration: 0.011009454727172852\n",
      "clEsperanto matrix multiplication duration: 0.009995222091674805\n",
      "clEsperanto matrix multiplication duration: 0.010002374649047852\n",
      "clEsperanto matrix multiplication duration: 0.010009527206420898\n"
     ]
    }
   ],
   "source": [
    "# multiply with clesperanto\n",
    "result_matrix = cle.create([1024, 1024])\n",
    "\n",
    "test_matrix1_gpu = cle.push_zyx(test_matrix1)\n",
    "test_matrix2_gpu = cle.push_zyx(test_matrix2)\n",
    "\n",
    "for i in range(0, 10):\n",
    "    start_time = time.time()\n",
    "    cle.multiply_matrix(test_matrix1_gpu, test_matrix2_gpu, result_matrix)\n",
    "    print(\"clEsperanto matrix multiplication duration: \" + str(time.time() - start_time))\n"
   ]
  },
  {
   "cell_type": "code",
   "execution_count": 4,
   "metadata": {},
   "outputs": [
    {
     "name": "stdout",
     "output_type": "stream",
     "text": [
      "cupy matrix multiplication duration: 0.4006175994873047\n",
      "cupy matrix multiplication duration: 0.018997907638549805\n",
      "cupy matrix multiplication duration: 0.01900482177734375\n",
      "cupy matrix multiplication duration: 0.01900339126586914\n",
      "cupy matrix multiplication duration: 0.019004106521606445\n",
      "cupy matrix multiplication duration: 0.01900458335876465\n",
      "cupy matrix multiplication duration: 0.019004106521606445\n",
      "cupy matrix multiplication duration: 0.019004106521606445\n",
      "cupy matrix multiplication duration: 0.0200045108795166\n",
      "cupy matrix multiplication duration: 0.019004344940185547\n",
      "(1024, 1024)\n"
     ]
    }
   ],
   "source": [
    "# multiply with numpy\n",
    "result_matrix = None\n",
    "cu_test_matrix1 = cp.asarray(test_matrix1)\n",
    "cu_test_matrix2 = cp.asarray(test_matrix2)\n",
    "\n",
    "for i in range(0, 10):\n",
    "    start_time = time.time()\n",
    "    result_matrix = cp.matmul(cu_test_matrix1, cu_test_matrix2, out=result_matrix)\n",
    "    cp.cuda.stream.get_current_stream().synchronize() # we need to wait here to measure time properly\n",
    "    print(\"cupy matrix multiplication duration: \" + str(time.time() - start_time))\n",
    "\n",
    "print(result_matrix.shape)"
   ]
  },
  {
   "cell_type": "code",
   "execution_count": 5,
   "metadata": {},
   "outputs": [
    {
     "name": "stdout",
     "output_type": "stream",
     "text": [
      "Numpy matrix multiplication duration: 0.011002540588378906\n",
      "Numpy matrix multiplication duration: 0.007002115249633789\n",
      "Numpy matrix multiplication duration: 0.006000995635986328\n",
      "Numpy matrix multiplication duration: 0.011002540588378906\n",
      "Numpy matrix multiplication duration: 0.00400090217590332\n",
      "Numpy matrix multiplication duration: 0.0040013790130615234\n",
      "Numpy matrix multiplication duration: 0.004000663757324219\n",
      "Numpy matrix multiplication duration: 0.006001472473144531\n",
      "Numpy matrix multiplication duration: 0.0110015869140625\n",
      "Numpy matrix multiplication duration: 0.0042684078216552734\n",
      "(1024, 1024)\n"
     ]
    }
   ],
   "source": [
    "# multiply with numpy\n",
    "result_matrix = None\n",
    "\n",
    "for i in range(0, 10):\n",
    "    start_time = time.time()\n",
    "    result_matrix = np.matmul(test_matrix1, test_matrix2, out=result_matrix)\n",
    "    print(\"Numpy matrix multiplication duration: \" + str(time.time() - start_time))\n",
    "\n",
    "print(result_matrix.shape)"
   ]
  },
  {
   "cell_type": "markdown",
   "metadata": {},
   "source": [
    "## Elementwise multiplication"
   ]
  },
  {
   "cell_type": "code",
   "execution_count": 6,
   "metadata": {},
   "outputs": [],
   "source": [
    "# test data\n",
    "import numpy as np\n",
    "\n",
    "test_image1 = np.random.random([100, 512, 512])\n",
    "test_image2 = np.random.random([100, 512, 512])"
   ]
  },
  {
   "cell_type": "code",
   "execution_count": 7,
   "metadata": {},
   "outputs": [
    {
     "name": "stdout",
     "output_type": "stream",
     "text": [
      "Numpy elementwise multiplication duration: 0.06801581382751465\n",
      "Numpy elementwise multiplication duration: 0.08701801300048828\n",
      "Numpy elementwise multiplication duration: 0.089019775390625\n",
      "Numpy elementwise multiplication duration: 0.07501673698425293\n",
      "Numpy elementwise multiplication duration: 0.08201789855957031\n",
      "Numpy elementwise multiplication duration: 0.08601880073547363\n",
      "Numpy elementwise multiplication duration: 0.08401870727539062\n",
      "Numpy elementwise multiplication duration: 0.07001566886901855\n",
      "Numpy elementwise multiplication duration: 0.08402299880981445\n",
      "Numpy elementwise multiplication duration: 0.07301664352416992\n"
     ]
    }
   ],
   "source": [
    "# multiply with numpy\n",
    "result_image = None\n",
    "\n",
    "for i in range(0, 10):\n",
    "    start_time = time.time()\n",
    "    result_image = np.multiply(test_image1, test_image2)\n",
    "    print(\"Numpy elementwise multiplication duration: \" + str(time.time() - start_time))\n",
    "    "
   ]
  },
  {
   "cell_type": "code",
   "execution_count": 8,
   "metadata": {},
   "outputs": [
    {
     "name": "stdout",
     "output_type": "stream",
     "text": [
      "clEsperanto elementwise multiplication duration: 0.01300358772277832\n",
      "clEsperanto elementwise multiplication duration: 0.0030014514923095703\n",
      "clEsperanto elementwise multiplication duration: 0.0030007362365722656\n",
      "clEsperanto elementwise multiplication duration: 0.003000497817993164\n",
      "clEsperanto elementwise multiplication duration: 0.002000570297241211\n",
      "clEsperanto elementwise multiplication duration: 0.004003763198852539\n",
      "clEsperanto elementwise multiplication duration: 0.00499272346496582\n",
      "clEsperanto elementwise multiplication duration: 0.003000497817993164\n",
      "clEsperanto elementwise multiplication duration: 0.0030007362365722656\n",
      "clEsperanto elementwise multiplication duration: 0.003000974655151367\n"
     ]
    }
   ],
   "source": [
    "# multiply with pyclesperanto\n",
    "result_image = None\n",
    "\n",
    "test_image1_gpu = cle.push_zyx(test_image1)\n",
    "test_image2_gpu = cle.push_zyx(test_image2)\n",
    "\n",
    "for i in range(0, 10):\n",
    "    start_time = time.time()\n",
    "    result_image = cle.multiply_images(test_image1_gpu, test_image2_gpu, result_image)\n",
    "    print(\"clEsperanto elementwise multiplication duration: \" + str(time.time() - start_time))"
   ]
  },
  {
   "cell_type": "code",
   "execution_count": 9,
   "metadata": {},
   "outputs": [
    {
     "name": "stdout",
     "output_type": "stream",
     "text": [
      "clEsperanto elementwise multiplication duration (+ memory allocation): 0.010004997253417969\n",
      "clEsperanto elementwise multiplication duration (+ memory allocation): 0.011002779006958008\n",
      "clEsperanto elementwise multiplication duration (+ memory allocation): 0.01453709602355957\n",
      "clEsperanto elementwise multiplication duration (+ memory allocation): 0.011003971099853516\n",
      "clEsperanto elementwise multiplication duration (+ memory allocation): 0.010394573211669922\n",
      "clEsperanto elementwise multiplication duration (+ memory allocation): 0.010910749435424805\n",
      "clEsperanto elementwise multiplication duration (+ memory allocation): 0.011003494262695312\n",
      "clEsperanto elementwise multiplication duration (+ memory allocation): 0.010691165924072266\n",
      "clEsperanto elementwise multiplication duration (+ memory allocation): 0.01069784164428711\n",
      "clEsperanto elementwise multiplication duration (+ memory allocation): 0.010003089904785156\n"
     ]
    }
   ],
   "source": [
    "# multiply with pyclesperanto while _not_ reusing memory\n",
    "result_image = None\n",
    "\n",
    "test_image1_gpu = cle.push_zyx(test_image1)\n",
    "test_image2_gpu = cle.push_zyx(test_image2)\n",
    "\n",
    "for i in range(0, 10):\n",
    "    start_time = time.time()\n",
    "    result_image = cle.multiply_images(test_image1_gpu, test_image2_gpu)\n",
    "    print(\"clEsperanto elementwise multiplication duration (+ memory allocation): \" + str(time.time() - start_time))"
   ]
  },
  {
   "cell_type": "code",
   "execution_count": null,
   "metadata": {},
   "outputs": [],
   "source": []
  }
 ],
 "metadata": {
  "kernelspec": {
   "display_name": "Python 3 (ipykernel)",
   "language": "python",
   "name": "python3"
  },
  "language_info": {
   "codemirror_mode": {
    "name": "ipython",
    "version": 3
   },
   "file_extension": ".py",
   "mimetype": "text/x-python",
   "name": "python",
   "nbconvert_exporter": "python",
   "pygments_lexer": "ipython3",
   "version": "3.8.5"
  }
 },
 "nbformat": 4,
 "nbformat_minor": 4
}
