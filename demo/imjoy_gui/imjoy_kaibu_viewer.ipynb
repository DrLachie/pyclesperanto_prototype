{
 "cells": [
  {
   "cell_type": "code",
   "execution_count": 2,
   "metadata": {},
   "outputs": [
    {
     "data": {
      "application/javascript": [
       "window.connectPlugin && window.connectPlugin(\"af4b7400-2a97-4839-af2e-67e4e682d0f0\")"
      ],
      "text/plain": [
       "<IPython.core.display.Javascript object>"
      ]
     },
     "metadata": {},
     "output_type": "display_data"
    },
    {
     "data": {
      "text/html": [
       "<div id=\"0a081f3d-2345-4091-b2c5-97d98a0a1a45\"></div>"
      ],
      "text/plain": [
       "<IPython.core.display.HTML object>"
      ]
     },
     "metadata": {},
     "output_type": "display_data"
    }
   ],
   "source": [
    "from imjoy import api\n",
    "\n",
    "import pyclesperanto_prototype as cle\n",
    "\n",
    "from skimage.io import imread, imsave, imshow\n",
    "import matplotlib\n",
    "import numpy as np\n",
    "\n",
    "class ImJoyPlugin():\n",
    "    async def setup(self):\n",
    "        await api.showMessage(\"initialized, using GPU: \" + cle.get_device().name)\n",
    "\n",
    "    async def run(self, ctx):\n",
    "        # load data\n",
    "        image = imread('https://samples.fiji.sc/blobs.png')\n",
    "        \n",
    "        # push image to GPU memory\n",
    "        input = cle.push(image)\n",
    "        \n",
    "        # create viewer\n",
    "        viewer = await api.createWindow(src=\"https://kaibu.org/#/app\")\n",
    "        await viewer.view_image(cle.pull(input))\n",
    "        \n",
    "        # blur the image\n",
    "        blurred = cle.gaussian_blur(input, sigm_x = 2, sigma_y = 2)\n",
    "        await viewer.view_image(cle.pull(blurred))\n",
    "        \n",
    "        # threshold the image\n",
    "        binary = cle.threshold_otsu(blurrd)\n",
    "        await viewer.view_image(cle.pull(binary))\n",
    "        \n",
    "        # connected component labeling\n",
    "        labels = cle.connected_components_labeling_box(blurred)\n",
    "        await viewer.view_image(cle.pull(labels))\n",
    "        \n",
    "        # remove labels on edges\n",
    "        labels_wo_edges = cle.exclude_labels_on_edges(labels)\n",
    "        \n",
    "        # count labels\n",
    "        number_of_labels = cle.maximum_of_all_pixels(labels_wo_edges)\n",
    "        await api.showMessage(\"Loaded image size: \" + str(image.shape))\n",
    "\n",
    "api.export(ImJoyPlugin())"
   ]
  },
  {
   "cell_type": "code",
   "execution_count": null,
   "metadata": {},
   "outputs": [],
   "source": []
  }
 ],
 "metadata": {
  "kernelspec": {
   "display_name": "Python 3",
   "language": "python",
   "name": "python3"
  },
  "language_info": {
   "codemirror_mode": {
    "name": "ipython",
    "version": 3
   },
   "file_extension": ".py",
   "mimetype": "text/x-python",
   "name": "python",
   "nbconvert_exporter": "python",
   "pygments_lexer": "ipython3",
   "version": "3.8.3"
  }
 },
 "nbformat": 4,
 "nbformat_minor": 4
}
