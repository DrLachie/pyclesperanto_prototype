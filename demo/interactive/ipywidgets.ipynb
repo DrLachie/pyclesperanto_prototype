{
 "cells": [
  {
   "cell_type": "markdown",
   "id": "72b6ee91",
   "metadata": {
    "id": "72b6ee91"
   },
   "source": [
    "# Interactive image processing with ipywidgets and numpy_image_widget\n",
    "ipywidgets can be used in jupyter notebooks to interactively change parameters and view resuls of computation without adapting and rerunning code. The numpy image widget is a convenient addon allowing to use ipywidgets with image data as numpy arrays. Combining both allows to tune image processing workflow parameters right in your notebook.\n",
    "\n",
    "See also: \n",
    "* [Widget types](https://ipywidgets.readthedocs.io/en/latest/examples/Widget%20List.html)\n",
    "* [Widget events](https://ipywidgets.readthedocs.io/en/latest/examples/Widget%20Events.html)\n",
    "* [The Numpy Image Widget](https://github.com/Who8MyLunch/Numpy_Image_Widget)\n",
    "* [stackview](https://github.com/haesleinhuepf/stackview)"
   ]
  },
  {
   "cell_type": "markdown",
   "id": "cb5b3bfe",
   "metadata": {
    "id": "cb5b3bfe"
   },
   "source": [
    "Optionally execute this to install dependencies:"
   ]
  },
  {
   "cell_type": "code",
   "execution_count": null,
   "id": "ClB6qhHGq0H2",
   "metadata": {
    "colab": {
     "base_uri": "https://localhost:8080/"
    },
    "id": "ClB6qhHGq0H2",
    "outputId": "4055344a-dd9f-4b55-8a03-89c236d67d84"
   },
   "outputs": [],
   "source": [
    "!pip install pyclesperanto_prototype"
   ]
  },
  {
   "cell_type": "code",
   "execution_count": null,
   "id": "bkVOJSM_rQUK",
   "metadata": {
    "colab": {
     "base_uri": "https://localhost:8080/"
    },
    "id": "bkVOJSM_rQUK",
    "outputId": "c8c7b623-70be-4188-aa6c-0600e0994200"
   },
   "outputs": [],
   "source": [
    "!pip install ipywidgets numpy_image_widget stackview"
   ]
  },
  {
   "cell_type": "code",
   "execution_count": 2,
   "id": "3e72770b",
   "metadata": {
    "colab": {
     "base_uri": "https://localhost:8080/"
    },
    "id": "3e72770b",
    "outputId": "ba35993e-bd71-4b53-aae7-25930300b257"
   },
   "outputs": [
    {
     "data": {
      "text/plain": [
       "<gfx902 on Platform: AMD Accelerated Parallel Processing (2 refs)>"
      ]
     },
     "execution_count": 2,
     "metadata": {},
     "output_type": "execute_result"
    }
   ],
   "source": [
    "import ipywidgets as widgets\n",
    "import pyclesperanto_prototype as cle\n",
    "import PIL\n",
    "import numpy as np\n",
    "import numpy_image_widget as niw\n",
    "from skimage.io import imread, imshow\n",
    "import stackview\n",
    "\n",
    "cle.get_device()"
   ]
  },
  {
   "cell_type": "code",
   "execution_count": 3,
   "id": "3a8e2ec2",
   "metadata": {
    "id": "3a8e2ec2"
   },
   "outputs": [],
   "source": [
    "blobs = imread('https://github.com/clEsperanto/pyclesperanto_prototype/blob/master/data/blobs.tif?raw=true')"
   ]
  },
  {
   "cell_type": "markdown",
   "id": "4216d2a9",
   "metadata": {},
   "source": [
    "## stackview\n",
    "[stackview](https://github.com/haesleinhuepf/stackview) is a library for interactive visualization of image processing results in jupyert notebooks."
   ]
  },
  {
   "cell_type": "code",
   "execution_count": 7,
   "id": "de109dbc",
   "metadata": {},
   "outputs": [
    {
     "data": {
      "application/vnd.jupyter.widget-view+json": {
       "model_id": "3d3f35ed24834552acc7623318e263f2",
       "version_major": 2,
       "version_minor": 0
      },
      "text/plain": [
       "interactive(children=(FloatSlider(value=0.0, continuous_update=False, description='sigma_x', max=20.0, min=-20…"
      ]
     },
     "metadata": {},
     "output_type": "display_data"
    },
    {
     "data": {
      "application/vnd.jupyter.widget-view+json": {
       "model_id": "aa6352f654904c4893a4d3d2c6ef92b4",
       "version_major": 2,
       "version_minor": 0
      },
      "text/plain": [
       "VBox(children=(NumpyImage(value=b'\\xff\\xd8\\xff\\xe0\\x00\\x10JFIF\\x00\\x01\\x01\\x00\\x00\\x01\\x00\\x01\\x00\\x00\\xff\\xdb…"
      ]
     },
     "metadata": {},
     "output_type": "display_data"
    }
   ],
   "source": [
    "stackview.interact(cle.gaussian_blur, blobs)"
   ]
  },
  {
   "cell_type": "markdown",
   "id": "ae807300",
   "metadata": {
    "id": "ae807300"
   },
   "source": [
    "## A simple viewer updated later on\n",
    "We start with a simple NumpyImage viewer that can be updated further down in the notebook."
   ]
  },
  {
   "cell_type": "code",
   "execution_count": 8,
   "id": "52caa8dd",
   "metadata": {
    "colab": {
     "base_uri": "https://localhost:8080/",
     "height": 279,
     "referenced_widgets": [
      "a733b64da5e5473ab6a350898a479d9a",
      "fea8644820d04edcaeda7e3e393babd5"
     ]
    },
    "id": "52caa8dd",
    "outputId": "311f1c3f-35e7-475f-eec6-dac14f15e0b1"
   },
   "outputs": [
    {
     "data": {
      "application/vnd.jupyter.widget-view+json": {
       "model_id": "8c6e6f33be92462cb01cfe4f1cc24f5f",
       "version_major": 2,
       "version_minor": 0
      },
      "text/plain": [
       "NumpyImage(value=b'\\xff\\xd8\\xff\\xe0\\x00\\x10JFIF\\x00\\x01\\x01\\x00\\x00\\x01\\x00\\x01\\x00\\x00\\xff\\xdb\\x00C\\x00\\x05\\x…"
      ]
     },
     "metadata": {},
     "output_type": "display_data"
    }
   ],
   "source": [
    "blobs_view = niw.NumpyImage(blobs)\n",
    "blobs_view"
   ]
  },
  {
   "cell_type": "code",
   "execution_count": 9,
   "id": "b4df9798",
   "metadata": {
    "id": "b4df9798"
   },
   "outputs": [],
   "source": [
    "blobs_view.data = cle.gaussian_blur(blobs, sigma_x=15, sigma_y=15)"
   ]
  },
  {
   "cell_type": "markdown",
   "id": "9762f9be",
   "metadata": {
    "id": "9762f9be"
   },
   "source": [
    "## Interactive viewers\n",
    "We load a 3D image first and define a function for rotating it around the Y-axis."
   ]
  },
  {
   "cell_type": "code",
   "execution_count": 10,
   "id": "f7f52e62",
   "metadata": {
    "colab": {
     "base_uri": "https://localhost:8080/"
    },
    "id": "f7f52e62",
    "outputId": "d6357aa0-ac71-466f-9fe2-71bf2fa70517"
   },
   "outputs": [
    {
     "data": {
      "text/plain": [
       "(120, 160, 160)"
      ]
     },
     "execution_count": 10,
     "metadata": {},
     "output_type": "execute_result"
    }
   ],
   "source": [
    "head = imread('https://github.com/clEsperanto/pyclesperanto_prototype/blob/master/data/Haase_MRT_tfl3d1.tif?raw=true', plugin='tifffile')\n",
    "head.shape"
   ]
  },
  {
   "cell_type": "code",
   "execution_count": 11,
   "id": "yvN2Vuw-sb31",
   "metadata": {
    "colab": {
     "base_uri": "https://localhost:8080/"
    },
    "id": "yvN2Vuw-sb31",
    "outputId": "40b125d8-7f5f-4f46-c795-621367776349"
   },
   "outputs": [
    {
     "data": {
      "text/plain": [
       "(240, 320, 320)"
      ]
     },
     "execution_count": 11,
     "metadata": {},
     "output_type": "execute_result"
    }
   ],
   "source": [
    "zoom_factor = 2\n",
    "\n",
    "head = np.asarray(cle.scale(head, cle.create(np.asarray(head.shape) * zoom_factor), factor_x=zoom_factor, factor_y=zoom_factor, factor_z=zoom_factor, linear_interpolation=True))\n",
    "head.shape"
   ]
  },
  {
   "cell_type": "code",
   "execution_count": 12,
   "id": "a113e725",
   "metadata": {
    "id": "a113e725"
   },
   "outputs": [],
   "source": [
    "def transform_image(image, angle, z=120):\n",
    "    rotated_stack = cle.rotate(image, angle_around_y_in_degrees=angle)\n",
    "    return rotated_stack[z]"
   ]
  },
  {
   "cell_type": "code",
   "execution_count": 13,
   "id": "c0678925",
   "metadata": {
    "colab": {
     "base_uri": "https://localhost:8080/",
     "height": 345,
     "referenced_widgets": [
      "0515bd324dda4bd8ba09516b1eb105ca",
      "cca85110e3b34db8b231d2e089dae729"
     ]
    },
    "id": "c0678925",
    "outputId": "0f95b12e-3e3f-418d-ea72-3b90dd382d9c"
   },
   "outputs": [
    {
     "data": {
      "application/vnd.jupyter.widget-view+json": {
       "model_id": "2868ede9cb0b48eebb1d527fa9b10190",
       "version_major": 2,
       "version_minor": 0
      },
      "text/plain": [
       "NumpyImage(value=b'\\xff\\xd8\\xff\\xe0\\x00\\x10JFIF\\x00\\x01\\x01\\x00\\x00\\x01\\x00\\x01\\x00\\x00\\xff\\xdb\\x00C\\x00\\x05\\x…"
      ]
     },
     "metadata": {},
     "output_type": "display_data"
    }
   ],
   "source": [
    "head_view = niw.NumpyImage(head[120])\n",
    "head_view"
   ]
  },
  {
   "cell_type": "code",
   "execution_count": 14,
   "id": "157b8a59",
   "metadata": {
    "colab": {
     "base_uri": "https://localhost:8080/",
     "height": 49,
     "referenced_widgets": [
      "19d1f2c25bc34b64a6f2c0ce91cfb3fb",
      "64b6def74d9f42cead220c28fe8b34ad",
      "ca0bc55e0bd64cc1b212a945ee9f0c7c"
     ]
    },
    "id": "157b8a59",
    "outputId": "28dfbde1-e4da-415a-839a-12c08f2fb3a9"
   },
   "outputs": [
    {
     "data": {
      "application/vnd.jupyter.widget-view+json": {
       "model_id": "211fc701f1344ac9a26b88b5ed12260a",
       "version_major": 2,
       "version_minor": 0
      },
      "text/plain": [
       "IntSlider(value=0, max=180, min=-180)"
      ]
     },
     "metadata": {},
     "output_type": "display_data"
    }
   ],
   "source": [
    "# setup user interface for changing the angle\n",
    "angle_slider = widgets.IntSlider(value=0, min=-180, max=180)\n",
    "\n",
    "# event handler when the user changed something:\n",
    "def configuration_updated(event):\n",
    "    head_view.data = transform_image(head, angle_slider.value)\n",
    "\n",
    "# connect user interface with event\n",
    "angle_slider.observe(configuration_updated)\n",
    "angle_slider"
   ]
  },
  {
   "cell_type": "markdown",
   "id": "07fad95a",
   "metadata": {
    "id": "07fad95a"
   },
   "source": [
    "# Complex graphical user interface"
   ]
  },
  {
   "cell_type": "markdown",
   "id": "1c93518c",
   "metadata": {
    "id": "1c93518c"
   },
   "source": [
    "Loading example data (Courtesy [Célia Baroux, Ethel Mendocilla-Sato and Daphné Autran, University of Zurich, IRD Montpellier](https://datadryad.org/stash/dataset/doi:10.5061/dryad.02v6wwq2c) CC0)"
   ]
  },
  {
   "cell_type": "code",
   "execution_count": 15,
   "id": "66ea0db4",
   "metadata": {
    "colab": {
     "base_uri": "https://localhost:8080/",
     "height": 314
    },
    "id": "66ea0db4",
    "outputId": "ee65e92d-4f27-4cb0-ca97-e86dab065666"
   },
   "outputs": [
    {
     "data": {
      "text/plain": [
       "<matplotlib.image.AxesImage at 0x18ccad8aeb0>"
      ]
     },
     "execution_count": 15,
     "metadata": {},
     "output_type": "execute_result"
    },
    {
     "data": {
      "image/png": "[encoded data removed]",
      "text/plain": [
       "<Figure size 432x288 with 1 Axes>"
      ]
     },
     "metadata": {
      "needs_background": "light"
     },
     "output_type": "display_data"
    }
   ],
   "source": [
    "image = imread('https://github.com/clEsperanto/pyclesperanto_prototype/blob/master/data/EM_C_6_c0.tif?raw=true', plugin='tifffile')\n",
    "\n",
    "depth, height, width = image.shape\n",
    "imshow(image[127])"
   ]
  },
  {
   "cell_type": "markdown",
   "id": "5fcf34f3",
   "metadata": {
    "id": "5fcf34f3"
   },
   "source": [
    "For a more complex graphical user interface (GUI) processing 3D data, we define a couple of sliders:"
   ]
  },
  {
   "cell_type": "code",
   "execution_count": 16,
   "id": "9bfbad2d",
   "metadata": {
    "id": "9bfbad2d"
   },
   "outputs": [],
   "source": [
    "z_slice_slider = widgets.IntSlider(\n",
    "    value=depth / 2,\n",
    "    min=0,\n",
    "    max=depth,\n",
    "    continuous_update=True,\n",
    "    orientation='vertical',\n",
    ")\n",
    "\n",
    "background_subtraction_radius_slider = widgets.FloatSlider(\n",
    "    value=4.5,\n",
    "    min=0,\n",
    "    max=20.0,\n",
    "    step=0.1,\n",
    "    description='Background subtraction:',\n",
    "    disabled=False,\n",
    "    continuous_update=False,\n",
    "    orientation='horizontal',\n",
    "    readout=True,\n",
    "    readout_format='.1f',\n",
    ")\n",
    "\n",
    "noise_removal_sigma_slider = widgets.FloatSlider(\n",
    "    value=2.2,\n",
    "    min=0,\n",
    "    max=20.0,\n",
    "    step=0.1,\n",
    "    description='Noise removal:',\n",
    "    disabled=False,\n",
    "    continuous_update=False,\n",
    "    orientation='horizontal',\n",
    "    readout=True,\n",
    "    readout_format='.1f',\n",
    ")\n",
    "\n",
    "edge_dilation_radius_slider = widgets.FloatSlider(\n",
    "    value=1.4,\n",
    "    min=0,\n",
    "    max=20,\n",
    "    step=0.1,\n",
    "    description='Edge dilation:',\n",
    "    disabled=False,\n",
    "    continuous_update=False,\n",
    "    orientation='horizontal',\n",
    "    readout=True,\n",
    "    readout_format='.1f',\n",
    ")\n",
    "\n",
    "threshold_slider = widgets.FloatSlider(\n",
    "    value=10,\n",
    "    min=0,\n",
    "    max=50.0,\n",
    "    step=0.1,\n",
    "    description='Threshold:',\n",
    "    disabled=False,\n",
    "    continuous_update=False,\n",
    "    orientation='horizontal',\n",
    "    readout=True,\n",
    "    readout_format='.1f',\n",
    ")\n",
    "\n",
    "output_selector = widgets.RadioButtons(\n",
    "    options=['background subtracted', 'denoised', 'edge eroded', 'binary', 'labels', 'result'],\n",
    "    value='result',\n",
    "    description='Show output:',\n",
    "    disabled=False\n",
    ")"
   ]
  },
  {
   "cell_type": "markdown",
   "id": "17af6138",
   "metadata": {
    "id": "17af6138"
   },
   "source": [
    "Furthermore, we define two viewers for showing input and output images:"
   ]
  },
  {
   "cell_type": "code",
   "execution_count": 17,
   "id": "e189cd60",
   "metadata": {
    "id": "e189cd60"
   },
   "outputs": [],
   "source": [
    "image_view = niw.NumpyImage(image[127])\n",
    "result_view = niw.NumpyImage(image[127])"
   ]
  },
  {
   "cell_type": "markdown",
   "id": "b0ad77c3",
   "metadata": {
    "id": "b0ad77c3"
   },
   "source": [
    "When executing longer workflows multiple times, it may make sense to allocate memory in advance. This spares re-allocation time in every execution."
   ]
  },
  {
   "cell_type": "code",
   "execution_count": 18,
   "id": "a8554608",
   "metadata": {
    "id": "a8554608"
   },
   "outputs": [],
   "source": [
    "# allocate memory\n",
    "image_gpu = cle.push(image)\n",
    "slice_gpu = cle.create([height, width])\n",
    "\n",
    "# have global variables for reusing memory\n",
    "background_subtracted_gpu = cle.create_like(image_gpu)\n",
    "denoised_gpu = cle.create_like(image_gpu)\n",
    "eroded_gpu = cle.create_like(image_gpu)\n",
    "binary_gpu = cle.create_like(image_gpu)\n",
    "labels_gpu = cle.create_labels_like(image_gpu)\n",
    "result_gpu = cle.create_like(image_gpu)"
   ]
  },
  {
   "cell_type": "markdown",
   "id": "9203afcd",
   "metadata": {
    "id": "9203afcd"
   },
   "source": [
    "We now attach events to the GUI. Those events will be executed when the user changes parameters."
   ]
  },
  {
   "cell_type": "code",
   "execution_count": 19,
   "id": "0fccbc1c",
   "metadata": {
    "id": "0fccbc1c"
   },
   "outputs": [],
   "source": [
    "def view_changed(event):\n",
    "    \n",
    "    cle.copy_slice(image_gpu, slice_gpu, slice_index=z_slice_slider.value)\n",
    "    image_view.data = slice_gpu\n",
    "    if output_selector.value == 'background subtracted':\n",
    "        cle.copy_slice(background_subtracted_gpu, slice_gpu, slice_index=z_slice_slider.value)\n",
    "    elif output_selector.value == 'denoised':\n",
    "        cle.copy_slice(denoised_gpu, slice_gpu, slice_index=z_slice_slider.value)\n",
    "    elif output_selector.value == 'edge eroded':\n",
    "        cle.copy_slice(eroded_gpu, slice_gpu, slice_index=z_slice_slider.value)\n",
    "    elif output_selector.value == 'binary':\n",
    "        cle.copy_slice(binary_gpu, slice_gpu, slice_index=z_slice_slider.value)\n",
    "    elif output_selector.value == 'labels':\n",
    "        cle.copy_slice(labels_gpu, slice_gpu, slice_index=z_slice_slider.value)\n",
    "    elif output_selector.value == 'result':\n",
    "        cle.copy_slice(result_gpu, slice_gpu, slice_index=z_slice_slider.value)\n",
    "\n",
    "    # in case min(result) == max(result), the viewer crashes\n",
    "    if cle.maximum_of_all_pixels(slice_gpu) == cle.minimum_of_all_pixels(slice_gpu):\n",
    "        cle.set_row(slice_gpu, 0, 1)\n",
    "        cle.set_column(slice_gpu, 0, 0)\n",
    "        \n",
    "    result_view.data = slice_gpu\n",
    "\n",
    "def parameters_changed(event):\n",
    "    process_image(threshold_slider.value, \n",
    "                  background_subtraction_radius_slider.value, \n",
    "                  noise_removal_sigma_slider.value,\n",
    "                  edge_dilation_radius_slider.value\n",
    "                 )    \n",
    "    view_changed(event)\n",
    "\n",
    "# connect GUI elements with event handlers\n",
    "threshold_slider.observe(parameters_changed)\n",
    "background_subtraction_radius_slider.observe(parameters_changed)\n",
    "edge_dilation_radius_slider.observe(parameters_changed)\n",
    "noise_removal_sigma_slider.observe(parameters_changed)\n",
    "\n",
    "z_slice_slider.observe(view_changed)\n",
    "output_selector.observe(view_changed)"
   ]
  },
  {
   "cell_type": "markdown",
   "id": "69d22bc5",
   "metadata": {
    "id": "69d22bc5"
   },
   "source": [
    "Finally, we define the image processing workflow in a function:"
   ]
  },
  {
   "cell_type": "code",
   "execution_count": 20,
   "id": "bb617393",
   "metadata": {
    "id": "bb617393"
   },
   "outputs": [],
   "source": [
    "def process_image(threshold, background_subtraction_radius, noise_removal_sigma, edge_dilation_radius):\n",
    "    # background removal\n",
    "    cle.top_hat_box(image_gpu, background_subtracted_gpu, radius_x=background_subtraction_radius, radius_y=background_subtraction_radius, radius_z=background_subtraction_radius)\n",
    "    \n",
    "    # denoising\n",
    "    cle.gaussian_blur(background_subtracted_gpu, denoised_gpu, sigma_x=noise_removal_sigma, sigma_y=noise_removal_sigma, sigma_z=noise_removal_sigma)\n",
    "    \n",
    "    # making membranes thicker in order to brige gaps\n",
    "    cle.maximum_box(denoised_gpu, eroded_gpu, radius_x=edge_dilation_radius, radius_y=edge_dilation_radius, radius_z=edge_dilation_radius)\n",
    "    \n",
    "    # threshold the image\n",
    "    cle.smaller_constant(eroded_gpu, binary_gpu, threshold)\n",
    "    \n",
    "    # label regions and fill black areas between regions\n",
    "    cle.voronoi_labeling(binary_gpu, labels_gpu)\n",
    "    \n",
    "    # output the borders between the labels\n",
    "    cle.detect_label_edges(labels_gpu, result_gpu)\n",
    "\n",
    "# call it once to initialize the view\n",
    "parameters_changed(None)"
   ]
  },
  {
   "cell_type": "markdown",
   "id": "cedf31e7",
   "metadata": {
    "id": "cedf31e7"
   },
   "source": [
    "We now use horizontal and vertical box arrangements to view the GUI elements."
   ]
  },
  {
   "cell_type": "code",
   "execution_count": 21,
   "id": "8f7c55e5",
   "metadata": {
    "colab": {
     "base_uri": "https://localhost:8080/",
     "height": 277,
     "referenced_widgets": [
      "0c53f07d742f4d31bacff91d38a033a2",
      "d31acf8e6d2649d9a163e9f095e460fe",
      "49225ff0a84a42cb90c743ea6b59b673",
      "121e20eb80374ddc886c035ef853d4d3",
      "78a6c83bc8f34cebb2ba791829144f73",
      "9fc404d208684df29534af5c541eb375",
      "274655296e4c4ed4a0e1d52c77ca29ce",
      "de9fda24d8a645d7a4e050db10a40772",
      "b382e33f3f784e04b7f2b1cac8061024",
      "8ab6f08fdd21410f8c65642bd262f55f",
      "f7048421787c41b19d003852d4e62658",
      "cf73e6377f224efd84b4dd7812d558b5",
      "d33000be93224fed99696b4fcf7b79aa",
      "4392a82b8f9a4ef0a78234176141741b",
      "0a4c7ebe998740b6858d607796b43e43",
      "523b64b5d120406d9aa5fe37c73958d1",
      "eff5a0626a6e4b6090d3113f61ea1eb9",
      "092f205de0294264897eef98d0534045",
      "997573a3064448eca9f442fdb0fe952d",
      "a99af7f81deb4b299d6b5b27557a8111",
      "10912ff0ec1c489c8e09012e083d706d",
      "04f7974a62af4defa3c696707f2ff879",
      "100f02572dbb4f6fa7b56d481579ed29",
      "fc42f3f2caff4a4e935aac4f8412750d",
      "a9776f22121c4512bd2e40f4332bd143",
      "b3de8dc2b979477ab3e56caa9dce13a0"
     ]
    },
    "id": "8f7c55e5",
    "outputId": "64708bdc-39a8-4c7d-b3d7-125e3824d4cf"
   },
   "outputs": [
    {
     "data": {
      "application/vnd.jupyter.widget-view+json": {
       "model_id": "729a060c8c7c4c65995df40eacf7378a",
       "version_major": 2,
       "version_minor": 0
      },
      "text/plain": [
       "HBox(children=(IntSlider(value=128, max=256, orientation='vertical'), NumpyImage(value=b'\\xff\\xd8\\xff\\xe0\\x00\\…"
      ]
     },
     "metadata": {},
     "output_type": "display_data"
    }
   ],
   "source": [
    "widgets.HBox([z_slice_slider, image_view, result_view,\n",
    "             widgets.VBox([\n",
    "                 background_subtraction_radius_slider,\n",
    "                 noise_removal_sigma_slider,\n",
    "                 edge_dilation_radius_slider,\n",
    "                 threshold_slider,\n",
    "                 output_selector\n",
    "             ])])"
   ]
  },
  {
   "cell_type": "markdown",
   "id": "a3cea6cf",
   "metadata": {
    "id": "a3cea6cf"
   },
   "source": [
    "Hint: After fine-tuning parameters, print them out!"
   ]
  },
  {
   "cell_type": "code",
   "execution_count": 22,
   "id": "b1c36137",
   "metadata": {
    "colab": {
     "base_uri": "https://localhost:8080/"
    },
    "id": "b1c36137",
    "outputId": "117b9214-a489-4140-c277-797b9f81c975"
   },
   "outputs": [
    {
     "data": {
      "text/plain": [
       "4.5"
      ]
     },
     "execution_count": 22,
     "metadata": {},
     "output_type": "execute_result"
    }
   ],
   "source": [
    "background_subtraction_radius_slider.value"
   ]
  },
  {
   "cell_type": "code",
   "execution_count": 23,
   "id": "6c858a5c",
   "metadata": {
    "colab": {
     "base_uri": "https://localhost:8080/"
    },
    "id": "6c858a5c",
    "outputId": "72a87ce6-feeb-4364-c4c4-745e25d8f21a"
   },
   "outputs": [
    {
     "data": {
      "text/plain": [
       "2.2"
      ]
     },
     "execution_count": 23,
     "metadata": {},
     "output_type": "execute_result"
    }
   ],
   "source": [
    "noise_removal_sigma_slider.value"
   ]
  },
  {
   "cell_type": "code",
   "execution_count": 24,
   "id": "a52bd862",
   "metadata": {
    "colab": {
     "base_uri": "https://localhost:8080/"
    },
    "id": "a52bd862",
    "outputId": "751fe130-8e68-492d-8bf9-ecdadf2e892f"
   },
   "outputs": [
    {
     "data": {
      "text/plain": [
       "1.4"
      ]
     },
     "execution_count": 24,
     "metadata": {},
     "output_type": "execute_result"
    }
   ],
   "source": [
    "edge_dilation_radius_slider.value"
   ]
  },
  {
   "cell_type": "code",
   "execution_count": 25,
   "id": "be2b74c4",
   "metadata": {
    "colab": {
     "base_uri": "https://localhost:8080/"
    },
    "id": "be2b74c4",
    "outputId": "a7ba2bfb-bcbb-429f-8c08-db574061e24b"
   },
   "outputs": [
    {
     "data": {
      "text/plain": [
       "10.0"
      ]
     },
     "execution_count": 25,
     "metadata": {},
     "output_type": "execute_result"
    }
   ],
   "source": [
    "threshold_slider.value"
   ]
  },
  {
   "cell_type": "code",
   "execution_count": 22,
   "id": "93dface8",
   "metadata": {
    "id": "93dface8"
   },
   "outputs": [],
   "source": []
  }
 ],
 "metadata": {
  "accelerator": "GPU",
  "colab": {
   "name": "ipywidgets.ipynb",
   "provenance": []
  },
  "kernelspec": {
   "display_name": "Python 3 (ipykernel)",
   "language": "python",
   "name": "python3"
  },
  "language_info": {
   "codemirror_mode": {
    "name": "ipython",
    "version": 3
   },
   "file_extension": ".py",
   "mimetype": "text/x-python",
   "name": "python",
   "nbconvert_exporter": "python",
   "pygments_lexer": "ipython3",
   "version": "3.8.5"
  },
  "widgets": {
   "application/vnd.jupyter.widget-state+json": {
    "04f7974a62af4defa3c696707f2ff879": {
     "model_module": "@jupyter-widgets/base",
     "model_name": "LayoutModel",
     "state": {
      "_model_module": "@jupyter-widgets/base",
      "_model_module_version": "1.2.0",
      "_model_name": "LayoutModel",
      "_view_count": null,
      "_view_module": "@jupyter-widgets/base",
      "_view_module_version": "1.2.0",
      "_view_name": "LayoutView",
      "align_content": null,
      "align_items": null,
      "align_self": null,
      "border": null,
      "bottom": null,
      "display": null,
      "flex": null,
      "flex_flow": null,
      "grid_area": null,
      "grid_auto_columns": null,
      "grid_auto_flow": null,
      "grid_auto_rows": null,
      "grid_column": null,
      "grid_gap": null,
      "grid_row": null,
      "grid_template_areas": null,
      "grid_template_columns": null,
      "grid_template_rows": null,
      "height": null,
      "justify_content": null,
      "justify_items": null,
      "left": null,
      "margin": null,
      "max_height": null,
      "max_width": null,
      "min_height": null,
      "min_width": null,
      "object_fit": null,
      "object_position": null,
      "order": null,
      "overflow": null,
      "overflow_x": null,
      "overflow_y": null,
      "padding": null,
      "right": null,
      "top": null,
      "visibility": null,
      "width": null
     }
    },
    "0515bd324dda4bd8ba09516b1eb105ca": {
     "model_module": "@jupyter-widgets/controls",
     "model_name": "ImageModel",
     "state": {
      "_dom_classes": [],
      "_model_module": "@jupyter-widgets/controls",
      "_model_module_version": "1.5.0",
      "_model_name": "ImageModel",
      "_view_count": null,
      "_view_module": "@jupyter-widgets/controls",
      "_view_module_version": "1.5.0",
      "_view_name": "ImageView",
      "format": "jpeg",
      "height": "",
      "layout": "IPY_MODEL_cca85110e3b34db8b231d2e089dae729",
      "width": ""
     }
    },
    "092f205de0294264897eef98d0534045": {
     "model_module": "@jupyter-widgets/base",
     "model_name": "LayoutModel",
     "state": {
      "_model_module": "@jupyter-widgets/base",
      "_model_module_version": "1.2.0",
      "_model_name": "LayoutModel",
      "_view_count": null,
      "_view_module": "@jupyter-widgets/base",
      "_view_module_version": "1.2.0",
      "_view_name": "LayoutView",
      "align_content": null,
      "align_items": null,
      "align_self": null,
      "border": null,
      "bottom": null,
      "display": null,
      "flex": null,
      "flex_flow": null,
      "grid_area": null,
      "grid_auto_columns": null,
      "grid_auto_flow": null,
      "grid_auto_rows": null,
      "grid_column": null,
      "grid_gap": null,
      "grid_row": null,
      "grid_template_areas": null,
      "grid_template_columns": null,
      "grid_template_rows": null,
      "height": null,
      "justify_content": null,
      "justify_items": null,
      "left": null,
      "margin": null,
      "max_height": null,
      "max_width": null,
      "min_height": null,
      "min_width": null,
      "object_fit": null,
      "object_position": null,
      "order": null,
      "overflow": null,
      "overflow_x": null,
      "overflow_y": null,
      "padding": null,
      "right": null,
      "top": null,
      "visibility": null,
      "width": null
     }
    },
    "0a4c7ebe998740b6858d607796b43e43": {
     "model_module": "@jupyter-widgets/controls",
     "model_name": "FloatSliderModel",
     "state": {
      "_dom_classes": [],
      "_model_module": "@jupyter-widgets/controls",
      "_model_module_version": "1.5.0",
      "_model_name": "FloatSliderModel",
      "_view_count": null,
      "_view_module": "@jupyter-widgets/controls",
      "_view_module_version": "1.5.0",
      "_view_name": "FloatSliderView",
      "continuous_update": false,
      "description": "Threshold:",
      "description_tooltip": null,
      "disabled": false,
      "layout": "IPY_MODEL_fc42f3f2caff4a4e935aac4f8412750d",
      "max": 50,
      "min": 0,
      "orientation": "horizontal",
      "readout": true,
      "readout_format": ".1f",
      "step": 0.1,
      "style": "IPY_MODEL_100f02572dbb4f6fa7b56d481579ed29",
      "value": 10
     }
    },
    "0c53f07d742f4d31bacff91d38a033a2": {
     "model_module": "@jupyter-widgets/controls",
     "model_name": "HBoxModel",
     "state": {
      "_dom_classes": [],
      "_model_module": "@jupyter-widgets/controls",
      "_model_module_version": "1.5.0",
      "_model_name": "HBoxModel",
      "_view_count": null,
      "_view_module": "@jupyter-widgets/controls",
      "_view_module_version": "1.5.0",
      "_view_name": "HBoxView",
      "box_style": "",
      "children": [
       "IPY_MODEL_49225ff0a84a42cb90c743ea6b59b673",
       "IPY_MODEL_121e20eb80374ddc886c035ef853d4d3",
       "IPY_MODEL_78a6c83bc8f34cebb2ba791829144f73",
       "IPY_MODEL_9fc404d208684df29534af5c541eb375"
      ],
      "layout": "IPY_MODEL_d31acf8e6d2649d9a163e9f095e460fe"
     }
    },
    "100f02572dbb4f6fa7b56d481579ed29": {
     "model_module": "@jupyter-widgets/controls",
     "model_name": "SliderStyleModel",
     "state": {
      "_model_module": "@jupyter-widgets/controls",
      "_model_module_version": "1.5.0",
      "_model_name": "SliderStyleModel",
      "_view_count": null,
      "_view_module": "@jupyter-widgets/base",
      "_view_module_version": "1.2.0",
      "_view_name": "StyleView",
      "description_width": "",
      "handle_color": null
     }
    },
    "10912ff0ec1c489c8e09012e083d706d": {
     "model_module": "@jupyter-widgets/controls",
     "model_name": "SliderStyleModel",
     "state": {
      "_model_module": "@jupyter-widgets/controls",
      "_model_module_version": "1.5.0",
      "_model_name": "SliderStyleModel",
      "_view_count": null,
      "_view_module": "@jupyter-widgets/base",
      "_view_module_version": "1.2.0",
      "_view_name": "StyleView",
      "description_width": "",
      "handle_color": null
     }
    },
    "121e20eb80374ddc886c035ef853d4d3": {
     "model_module": "@jupyter-widgets/controls",
     "model_name": "ImageModel",
     "state": {
      "_dom_classes": [],
      "_model_module": "@jupyter-widgets/controls",
      "_model_module_version": "1.5.0",
      "_model_name": "ImageModel",
      "_view_count": null,
      "_view_module": "@jupyter-widgets/controls",
      "_view_module_version": "1.5.0",
      "_view_name": "ImageView",
      "format": "jpeg",
      "height": "",
      "layout": "IPY_MODEL_b382e33f3f784e04b7f2b1cac8061024",
      "width": ""
     }
    },
    "19d1f2c25bc34b64a6f2c0ce91cfb3fb": {
     "model_module": "@jupyter-widgets/controls",
     "model_name": "IntSliderModel",
     "state": {
      "_dom_classes": [],
      "_model_module": "@jupyter-widgets/controls",
      "_model_module_version": "1.5.0",
      "_model_name": "IntSliderModel",
      "_view_count": null,
      "_view_module": "@jupyter-widgets/controls",
      "_view_module_version": "1.5.0",
      "_view_name": "IntSliderView",
      "continuous_update": true,
      "description": "",
      "description_tooltip": null,
      "disabled": false,
      "layout": "IPY_MODEL_ca0bc55e0bd64cc1b212a945ee9f0c7c",
      "max": 180,
      "min": -180,
      "orientation": "horizontal",
      "readout": true,
      "readout_format": "d",
      "step": 1,
      "style": "IPY_MODEL_64b6def74d9f42cead220c28fe8b34ad",
      "value": 1
     }
    },
    "274655296e4c4ed4a0e1d52c77ca29ce": {
     "model_module": "@jupyter-widgets/controls",
     "model_name": "SliderStyleModel",
     "state": {
      "_model_module": "@jupyter-widgets/controls",
      "_model_module_version": "1.5.0",
      "_model_name": "SliderStyleModel",
      "_view_count": null,
      "_view_module": "@jupyter-widgets/base",
      "_view_module_version": "1.2.0",
      "_view_name": "StyleView",
      "description_width": "",
      "handle_color": null
     }
    },
    "4392a82b8f9a4ef0a78234176141741b": {
     "model_module": "@jupyter-widgets/controls",
     "model_name": "FloatSliderModel",
     "state": {
      "_dom_classes": [],
      "_model_module": "@jupyter-widgets/controls",
      "_model_module_version": "1.5.0",
      "_model_name": "FloatSliderModel",
      "_view_count": null,
      "_view_module": "@jupyter-widgets/controls",
      "_view_module_version": "1.5.0",
      "_view_name": "FloatSliderView",
      "continuous_update": false,
      "description": "Edge dilation:",
      "description_tooltip": null,
      "disabled": false,
      "layout": "IPY_MODEL_04f7974a62af4defa3c696707f2ff879",
      "max": 20,
      "min": 0,
      "orientation": "horizontal",
      "readout": true,
      "readout_format": ".1f",
      "step": 0.1,
      "style": "IPY_MODEL_10912ff0ec1c489c8e09012e083d706d",
      "value": 1.4
     }
    },
    "49225ff0a84a42cb90c743ea6b59b673": {
     "model_module": "@jupyter-widgets/controls",
     "model_name": "IntSliderModel",
     "state": {
      "_dom_classes": [],
      "_model_module": "@jupyter-widgets/controls",
      "_model_module_version": "1.5.0",
      "_model_name": "IntSliderModel",
      "_view_count": null,
      "_view_module": "@jupyter-widgets/controls",
      "_view_module_version": "1.5.0",
      "_view_name": "IntSliderView",
      "continuous_update": true,
      "description": "",
      "description_tooltip": null,
      "disabled": false,
      "layout": "IPY_MODEL_de9fda24d8a645d7a4e050db10a40772",
      "max": 256,
      "min": 0,
      "orientation": "vertical",
      "readout": true,
      "readout_format": "d",
      "step": 1,
      "style": "IPY_MODEL_274655296e4c4ed4a0e1d52c77ca29ce",
      "value": 128
     }
    },
    "523b64b5d120406d9aa5fe37c73958d1": {
     "model_module": "@jupyter-widgets/controls",
     "model_name": "RadioButtonsModel",
     "state": {
      "_dom_classes": [],
      "_model_module": "@jupyter-widgets/controls",
      "_model_module_version": "1.5.0",
      "_model_name": "RadioButtonsModel",
      "_options_labels": [
       "background subtracted",
       "denoised",
       "edge eroded",
       "binary",
       "labels",
       "result"
      ],
      "_view_count": null,
      "_view_module": "@jupyter-widgets/controls",
      "_view_module_version": "1.5.0",
      "_view_name": "RadioButtonsView",
      "description": "Show output:",
      "description_tooltip": null,
      "disabled": false,
      "index": 5,
      "layout": "IPY_MODEL_b3de8dc2b979477ab3e56caa9dce13a0",
      "style": "IPY_MODEL_a9776f22121c4512bd2e40f4332bd143"
     }
    },
    "64b6def74d9f42cead220c28fe8b34ad": {
     "model_module": "@jupyter-widgets/controls",
     "model_name": "SliderStyleModel",
     "state": {
      "_model_module": "@jupyter-widgets/controls",
      "_model_module_version": "1.5.0",
      "_model_name": "SliderStyleModel",
      "_view_count": null,
      "_view_module": "@jupyter-widgets/base",
      "_view_module_version": "1.2.0",
      "_view_name": "StyleView",
      "description_width": "",
      "handle_color": null
     }
    },
    "78a6c83bc8f34cebb2ba791829144f73": {
     "model_module": "@jupyter-widgets/controls",
     "model_name": "ImageModel",
     "state": {
      "_dom_classes": [],
      "_model_module": "@jupyter-widgets/controls",
      "_model_module_version": "1.5.0",
      "_model_name": "ImageModel",
      "_view_count": null,
      "_view_module": "@jupyter-widgets/controls",
      "_view_module_version": "1.5.0",
      "_view_name": "ImageView",
      "format": "jpeg",
      "height": "",
      "layout": "IPY_MODEL_8ab6f08fdd21410f8c65642bd262f55f",
      "width": ""
     }
    },
    "8ab6f08fdd21410f8c65642bd262f55f": {
     "model_module": "@jupyter-widgets/base",
     "model_name": "LayoutModel",
     "state": {
      "_model_module": "@jupyter-widgets/base",
      "_model_module_version": "1.2.0",
      "_model_name": "LayoutModel",
      "_view_count": null,
      "_view_module": "@jupyter-widgets/base",
      "_view_module_version": "1.2.0",
      "_view_name": "LayoutView",
      "align_content": null,
      "align_items": null,
      "align_self": null,
      "border": null,
      "bottom": null,
      "display": null,
      "flex": null,
      "flex_flow": null,
      "grid_area": null,
      "grid_auto_columns": null,
      "grid_auto_flow": null,
      "grid_auto_rows": null,
      "grid_column": null,
      "grid_gap": null,
      "grid_row": null,
      "grid_template_areas": null,
      "grid_template_columns": null,
      "grid_template_rows": null,
      "height": null,
      "justify_content": null,
      "justify_items": null,
      "left": null,
      "margin": null,
      "max_height": null,
      "max_width": null,
      "min_height": null,
      "min_width": null,
      "object_fit": null,
      "object_position": null,
      "order": null,
      "overflow": null,
      "overflow_x": null,
      "overflow_y": null,
      "padding": null,
      "right": null,
      "top": null,
      "visibility": null,
      "width": null
     }
    },
    "997573a3064448eca9f442fdb0fe952d": {
     "model_module": "@jupyter-widgets/controls",
     "model_name": "SliderStyleModel",
     "state": {
      "_model_module": "@jupyter-widgets/controls",
      "_model_module_version": "1.5.0",
      "_model_name": "SliderStyleModel",
      "_view_count": null,
      "_view_module": "@jupyter-widgets/base",
      "_view_module_version": "1.2.0",
      "_view_name": "StyleView",
      "description_width": "",
      "handle_color": null
     }
    },
    "9fc404d208684df29534af5c541eb375": {
     "model_module": "@jupyter-widgets/controls",
     "model_name": "VBoxModel",
     "state": {
      "_dom_classes": [],
      "_model_module": "@jupyter-widgets/controls",
      "_model_module_version": "1.5.0",
      "_model_name": "VBoxModel",
      "_view_count": null,
      "_view_module": "@jupyter-widgets/controls",
      "_view_module_version": "1.5.0",
      "_view_name": "VBoxView",
      "box_style": "",
      "children": [
       "IPY_MODEL_cf73e6377f224efd84b4dd7812d558b5",
       "IPY_MODEL_d33000be93224fed99696b4fcf7b79aa",
       "IPY_MODEL_4392a82b8f9a4ef0a78234176141741b",
       "IPY_MODEL_0a4c7ebe998740b6858d607796b43e43",
       "IPY_MODEL_523b64b5d120406d9aa5fe37c73958d1"
      ],
      "layout": "IPY_MODEL_f7048421787c41b19d003852d4e62658"
     }
    },
    "a733b64da5e5473ab6a350898a479d9a": {
     "model_module": "@jupyter-widgets/controls",
     "model_name": "ImageModel",
     "state": {
      "_dom_classes": [],
      "_model_module": "@jupyter-widgets/controls",
      "_model_module_version": "1.5.0",
      "_model_name": "ImageModel",
      "_view_count": null,
      "_view_module": "@jupyter-widgets/controls",
      "_view_module_version": "1.5.0",
      "_view_name": "ImageView",
      "format": "jpeg",
      "height": "",
      "layout": "IPY_MODEL_fea8644820d04edcaeda7e3e393babd5",
      "width": ""
     }
    },
    "a9776f22121c4512bd2e40f4332bd143": {
     "model_module": "@jupyter-widgets/controls",
     "model_name": "DescriptionStyleModel",
     "state": {
      "_model_module": "@jupyter-widgets/controls",
      "_model_module_version": "1.5.0",
      "_model_name": "DescriptionStyleModel",
      "_view_count": null,
      "_view_module": "@jupyter-widgets/base",
      "_view_module_version": "1.2.0",
      "_view_name": "StyleView",
      "description_width": ""
     }
    },
    "a99af7f81deb4b299d6b5b27557a8111": {
     "model_module": "@jupyter-widgets/base",
     "model_name": "LayoutModel",
     "state": {
      "_model_module": "@jupyter-widgets/base",
      "_model_module_version": "1.2.0",
      "_model_name": "LayoutModel",
      "_view_count": null,
      "_view_module": "@jupyter-widgets/base",
      "_view_module_version": "1.2.0",
      "_view_name": "LayoutView",
      "align_content": null,
      "align_items": null,
      "align_self": null,
      "border": null,
      "bottom": null,
      "display": null,
      "flex": null,
      "flex_flow": null,
      "grid_area": null,
      "grid_auto_columns": null,
      "grid_auto_flow": null,
      "grid_auto_rows": null,
      "grid_column": null,
      "grid_gap": null,
      "grid_row": null,
      "grid_template_areas": null,
      "grid_template_columns": null,
      "grid_template_rows": null,
      "height": null,
      "justify_content": null,
      "justify_items": null,
      "left": null,
      "margin": null,
      "max_height": null,
      "max_width": null,
      "min_height": null,
      "min_width": null,
      "object_fit": null,
      "object_position": null,
      "order": null,
      "overflow": null,
      "overflow_x": null,
      "overflow_y": null,
      "padding": null,
      "right": null,
      "top": null,
      "visibility": null,
      "width": null
     }
    },
    "b382e33f3f784e04b7f2b1cac8061024": {
     "model_module": "@jupyter-widgets/base",
     "model_name": "LayoutModel",
     "state": {
      "_model_module": "@jupyter-widgets/base",
      "_model_module_version": "1.2.0",
      "_model_name": "LayoutModel",
      "_view_count": null,
      "_view_module": "@jupyter-widgets/base",
      "_view_module_version": "1.2.0",
      "_view_name": "LayoutView",
      "align_content": null,
      "align_items": null,
      "align_self": null,
      "border": null,
      "bottom": null,
      "display": null,
      "flex": null,
      "flex_flow": null,
      "grid_area": null,
      "grid_auto_columns": null,
      "grid_auto_flow": null,
      "grid_auto_rows": null,
      "grid_column": null,
      "grid_gap": null,
      "grid_row": null,
      "grid_template_areas": null,
      "grid_template_columns": null,
      "grid_template_rows": null,
      "height": null,
      "justify_content": null,
      "justify_items": null,
      "left": null,
      "margin": null,
      "max_height": null,
      "max_width": null,
      "min_height": null,
      "min_width": null,
      "object_fit": null,
      "object_position": null,
      "order": null,
      "overflow": null,
      "overflow_x": null,
      "overflow_y": null,
      "padding": null,
      "right": null,
      "top": null,
      "visibility": null,
      "width": null
     }
    },
    "b3de8dc2b979477ab3e56caa9dce13a0": {
     "model_module": "@jupyter-widgets/base",
     "model_name": "LayoutModel",
     "state": {
      "_model_module": "@jupyter-widgets/base",
      "_model_module_version": "1.2.0",
      "_model_name": "LayoutModel",
      "_view_count": null,
      "_view_module": "@jupyter-widgets/base",
      "_view_module_version": "1.2.0",
      "_view_name": "LayoutView",
      "align_content": null,
      "align_items": null,
      "align_self": null,
      "border": null,
      "bottom": null,
      "display": null,
      "flex": null,
      "flex_flow": null,
      "grid_area": null,
      "grid_auto_columns": null,
      "grid_auto_flow": null,
      "grid_auto_rows": null,
      "grid_column": null,
      "grid_gap": null,
      "grid_row": null,
      "grid_template_areas": null,
      "grid_template_columns": null,
      "grid_template_rows": null,
      "height": null,
      "justify_content": null,
      "justify_items": null,
      "left": null,
      "margin": null,
      "max_height": null,
      "max_width": null,
      "min_height": null,
      "min_width": null,
      "object_fit": null,
      "object_position": null,
      "order": null,
      "overflow": null,
      "overflow_x": null,
      "overflow_y": null,
      "padding": null,
      "right": null,
      "top": null,
      "visibility": null,
      "width": null
     }
    },
    "ca0bc55e0bd64cc1b212a945ee9f0c7c": {
     "model_module": "@jupyter-widgets/base",
     "model_name": "LayoutModel",
     "state": {
      "_model_module": "@jupyter-widgets/base",
      "_model_module_version": "1.2.0",
      "_model_name": "LayoutModel",
      "_view_count": null,
      "_view_module": "@jupyter-widgets/base",
      "_view_module_version": "1.2.0",
      "_view_name": "LayoutView",
      "align_content": null,
      "align_items": null,
      "align_self": null,
      "border": null,
      "bottom": null,
      "display": null,
      "flex": null,
      "flex_flow": null,
      "grid_area": null,
      "grid_auto_columns": null,
      "grid_auto_flow": null,
      "grid_auto_rows": null,
      "grid_column": null,
      "grid_gap": null,
      "grid_row": null,
      "grid_template_areas": null,
      "grid_template_columns": null,
      "grid_template_rows": null,
      "height": null,
      "justify_content": null,
      "justify_items": null,
      "left": null,
      "margin": null,
      "max_height": null,
      "max_width": null,
      "min_height": null,
      "min_width": null,
      "object_fit": null,
      "object_position": null,
      "order": null,
      "overflow": null,
      "overflow_x": null,
      "overflow_y": null,
      "padding": null,
      "right": null,
      "top": null,
      "visibility": null,
      "width": null
     }
    },
    "cca85110e3b34db8b231d2e089dae729": {
     "model_module": "@jupyter-widgets/base",
     "model_name": "LayoutModel",
     "state": {
      "_model_module": "@jupyter-widgets/base",
      "_model_module_version": "1.2.0",
      "_model_name": "LayoutModel",
      "_view_count": null,
      "_view_module": "@jupyter-widgets/base",
      "_view_module_version": "1.2.0",
      "_view_name": "LayoutView",
      "align_content": null,
      "align_items": null,
      "align_self": null,
      "border": null,
      "bottom": null,
      "display": null,
      "flex": null,
      "flex_flow": null,
      "grid_area": null,
      "grid_auto_columns": null,
      "grid_auto_flow": null,
      "grid_auto_rows": null,
      "grid_column": null,
      "grid_gap": null,
      "grid_row": null,
      "grid_template_areas": null,
      "grid_template_columns": null,
      "grid_template_rows": null,
      "height": null,
      "justify_content": null,
      "justify_items": null,
      "left": null,
      "margin": null,
      "max_height": null,
      "max_width": null,
      "min_height": null,
      "min_width": null,
      "object_fit": null,
      "object_position": null,
      "order": null,
      "overflow": null,
      "overflow_x": null,
      "overflow_y": null,
      "padding": null,
      "right": null,
      "top": null,
      "visibility": null,
      "width": null
     }
    },
    "cf73e6377f224efd84b4dd7812d558b5": {
     "model_module": "@jupyter-widgets/controls",
     "model_name": "FloatSliderModel",
     "state": {
      "_dom_classes": [],
      "_model_module": "@jupyter-widgets/controls",
      "_model_module_version": "1.5.0",
      "_model_name": "FloatSliderModel",
      "_view_count": null,
      "_view_module": "@jupyter-widgets/controls",
      "_view_module_version": "1.5.0",
      "_view_name": "FloatSliderView",
      "continuous_update": false,
      "description": "Background subtraction:",
      "description_tooltip": null,
      "disabled": false,
      "layout": "IPY_MODEL_092f205de0294264897eef98d0534045",
      "max": 20,
      "min": 0,
      "orientation": "horizontal",
      "readout": true,
      "readout_format": ".1f",
      "step": 0.1,
      "style": "IPY_MODEL_eff5a0626a6e4b6090d3113f61ea1eb9",
      "value": 4.5
     }
    },
    "d31acf8e6d2649d9a163e9f095e460fe": {
     "model_module": "@jupyter-widgets/base",
     "model_name": "LayoutModel",
     "state": {
      "_model_module": "@jupyter-widgets/base",
      "_model_module_version": "1.2.0",
      "_model_name": "LayoutModel",
      "_view_count": null,
      "_view_module": "@jupyter-widgets/base",
      "_view_module_version": "1.2.0",
      "_view_name": "LayoutView",
      "align_content": null,
      "align_items": null,
      "align_self": null,
      "border": null,
      "bottom": null,
      "display": null,
      "flex": null,
      "flex_flow": null,
      "grid_area": null,
      "grid_auto_columns": null,
      "grid_auto_flow": null,
      "grid_auto_rows": null,
      "grid_column": null,
      "grid_gap": null,
      "grid_row": null,
      "grid_template_areas": null,
      "grid_template_columns": null,
      "grid_template_rows": null,
      "height": null,
      "justify_content": null,
      "justify_items": null,
      "left": null,
      "margin": null,
      "max_height": null,
      "max_width": null,
      "min_height": null,
      "min_width": null,
      "object_fit": null,
      "object_position": null,
      "order": null,
      "overflow": null,
      "overflow_x": null,
      "overflow_y": null,
      "padding": null,
      "right": null,
      "top": null,
      "visibility": null,
      "width": null
     }
    },
    "d33000be93224fed99696b4fcf7b79aa": {
     "model_module": "@jupyter-widgets/controls",
     "model_name": "FloatSliderModel",
     "state": {
      "_dom_classes": [],
      "_model_module": "@jupyter-widgets/controls",
      "_model_module_version": "1.5.0",
      "_model_name": "FloatSliderModel",
      "_view_count": null,
      "_view_module": "@jupyter-widgets/controls",
      "_view_module_version": "1.5.0",
      "_view_name": "FloatSliderView",
      "continuous_update": false,
      "description": "Noise removal:",
      "description_tooltip": null,
      "disabled": false,
      "layout": "IPY_MODEL_a99af7f81deb4b299d6b5b27557a8111",
      "max": 20,
      "min": 0,
      "orientation": "horizontal",
      "readout": true,
      "readout_format": ".1f",
      "step": 0.1,
      "style": "IPY_MODEL_997573a3064448eca9f442fdb0fe952d",
      "value": 2.2
     }
    },
    "de9fda24d8a645d7a4e050db10a40772": {
     "model_module": "@jupyter-widgets/base",
     "model_name": "LayoutModel",
     "state": {
      "_model_module": "@jupyter-widgets/base",
      "_model_module_version": "1.2.0",
      "_model_name": "LayoutModel",
      "_view_count": null,
      "_view_module": "@jupyter-widgets/base",
      "_view_module_version": "1.2.0",
      "_view_name": "LayoutView",
      "align_content": null,
      "align_items": null,
      "align_self": null,
      "border": null,
      "bottom": null,
      "display": null,
      "flex": null,
      "flex_flow": null,
      "grid_area": null,
      "grid_auto_columns": null,
      "grid_auto_flow": null,
      "grid_auto_rows": null,
      "grid_column": null,
      "grid_gap": null,
      "grid_row": null,
      "grid_template_areas": null,
      "grid_template_columns": null,
      "grid_template_rows": null,
      "height": null,
      "justify_content": null,
      "justify_items": null,
      "left": null,
      "margin": null,
      "max_height": null,
      "max_width": null,
      "min_height": null,
      "min_width": null,
      "object_fit": null,
      "object_position": null,
      "order": null,
      "overflow": null,
      "overflow_x": null,
      "overflow_y": null,
      "padding": null,
      "right": null,
      "top": null,
      "visibility": null,
      "width": null
     }
    },
    "eff5a0626a6e4b6090d3113f61ea1eb9": {
     "model_module": "@jupyter-widgets/controls",
     "model_name": "SliderStyleModel",
     "state": {
      "_model_module": "@jupyter-widgets/controls",
      "_model_module_version": "1.5.0",
      "_model_name": "SliderStyleModel",
      "_view_count": null,
      "_view_module": "@jupyter-widgets/base",
      "_view_module_version": "1.2.0",
      "_view_name": "StyleView",
      "description_width": "",
      "handle_color": null
     }
    },
    "f7048421787c41b19d003852d4e62658": {
     "model_module": "@jupyter-widgets/base",
     "model_name": "LayoutModel",
     "state": {
      "_model_module": "@jupyter-widgets/base",
      "_model_module_version": "1.2.0",
      "_model_name": "LayoutModel",
      "_view_count": null,
      "_view_module": "@jupyter-widgets/base",
      "_view_module_version": "1.2.0",
      "_view_name": "LayoutView",
      "align_content": null,
      "align_items": null,
      "align_self": null,
      "border": null,
      "bottom": null,
      "display": null,
      "flex": null,
      "flex_flow": null,
      "grid_area": null,
      "grid_auto_columns": null,
      "grid_auto_flow": null,
      "grid_auto_rows": null,
      "grid_column": null,
      "grid_gap": null,
      "grid_row": null,
      "grid_template_areas": null,
      "grid_template_columns": null,
      "grid_template_rows": null,
      "height": null,
      "justify_content": null,
      "justify_items": null,
      "left": null,
      "margin": null,
      "max_height": null,
      "max_width": null,
      "min_height": null,
      "min_width": null,
      "object_fit": null,
      "object_position": null,
      "order": null,
      "overflow": null,
      "overflow_x": null,
      "overflow_y": null,
      "padding": null,
      "right": null,
      "top": null,
      "visibility": null,
      "width": null
     }
    },
    "fc42f3f2caff4a4e935aac4f8412750d": {
     "model_module": "@jupyter-widgets/base",
     "model_name": "LayoutModel",
     "state": {
      "_model_module": "@jupyter-widgets/base",
      "_model_module_version": "1.2.0",
      "_model_name": "LayoutModel",
      "_view_count": null,
      "_view_module": "@jupyter-widgets/base",
      "_view_module_version": "1.2.0",
      "_view_name": "LayoutView",
      "align_content": null,
      "align_items": null,
      "align_self": null,
      "border": null,
      "bottom": null,
      "display": null,
      "flex": null,
      "flex_flow": null,
      "grid_area": null,
      "grid_auto_columns": null,
      "grid_auto_flow": null,
      "grid_auto_rows": null,
      "grid_column": null,
      "grid_gap": null,
      "grid_row": null,
      "grid_template_areas": null,
      "grid_template_columns": null,
      "grid_template_rows": null,
      "height": null,
      "justify_content": null,
      "justify_items": null,
      "left": null,
      "margin": null,
      "max_height": null,
      "max_width": null,
      "min_height": null,
      "min_width": null,
      "object_fit": null,
      "object_position": null,
      "order": null,
      "overflow": null,
      "overflow_x": null,
      "overflow_y": null,
      "padding": null,
      "right": null,
      "top": null,
      "visibility": null,
      "width": null
     }
    },
    "fea8644820d04edcaeda7e3e393babd5": {
     "model_module": "@jupyter-widgets/base",
     "model_name": "LayoutModel",
     "state": {
      "_model_module": "@jupyter-widgets/base",
      "_model_module_version": "1.2.0",
      "_model_name": "LayoutModel",
      "_view_count": null,
      "_view_module": "@jupyter-widgets/base",
      "_view_module_version": "1.2.0",
      "_view_name": "LayoutView",
      "align_content": null,
      "align_items": null,
      "align_self": null,
      "border": null,
      "bottom": null,
      "display": null,
      "flex": null,
      "flex_flow": null,
      "grid_area": null,
      "grid_auto_columns": null,
      "grid_auto_flow": null,
      "grid_auto_rows": null,
      "grid_column": null,
      "grid_gap": null,
      "grid_row": null,
      "grid_template_areas": null,
      "grid_template_columns": null,
      "grid_template_rows": null,
      "height": null,
      "justify_content": null,
      "justify_items": null,
      "left": null,
      "margin": null,
      "max_height": null,
      "max_width": null,
      "min_height": null,
      "min_width": null,
      "object_fit": null,
      "object_position": null,
      "order": null,
      "overflow": null,
      "overflow_x": null,
      "overflow_y": null,
      "padding": null,
      "right": null,
      "top": null,
      "visibility": null,
      "width": null
     }
    }
   }
  }
 },
 "nbformat": 4,
 "nbformat_minor": 5
}
