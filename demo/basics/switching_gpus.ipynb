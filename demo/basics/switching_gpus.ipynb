{
 "cells": [
  {
   "cell_type": "markdown",
   "id": "1215cd1b",
   "metadata": {},
   "source": [
    "## Exploring and switching between GPUs\n",
    "In clesperanto, you can list available GPUs and select them for processing."
   ]
  },
  {
   "cell_type": "code",
   "execution_count": 5,
   "id": "9e24f0b6",
   "metadata": {},
   "outputs": [],
   "source": [
    "import numpy as np\n",
    "import pyclesperanto_prototype as cle"
   ]
  },
  {
   "cell_type": "code",
   "execution_count": 3,
   "id": "198303b7",
   "metadata": {},
   "outputs": [
    {
     "data": {
      "text/plain": [
       "['NVIDIA GeForce RTX 3050 Ti Laptop GPU', 'gfx902']"
      ]
     },
     "execution_count": 3,
     "metadata": {},
     "output_type": "execute_result"
    }
   ],
   "source": [
    "cle.available_device_names()"
   ]
  },
  {
   "cell_type": "markdown",
   "id": "8ceb439c",
   "metadata": {},
   "source": [
    "You can then select a GPU and process on it."
   ]
  },
  {
   "cell_type": "code",
   "execution_count": 4,
   "id": "e2ffcc38",
   "metadata": {},
   "outputs": [
    {
     "data": {
      "text/plain": [
       "<gfx902 on Platform: AMD Accelerated Parallel Processing (2 refs)>"
      ]
     },
     "execution_count": 4,
     "metadata": {},
     "output_type": "execute_result"
    }
   ],
   "source": [
    "cle.select_device('gfx')"
   ]
  },
  {
   "cell_type": "code",
   "execution_count": 11,
   "id": "41455f99",
   "metadata": {},
   "outputs": [
    {
     "data": {
      "image/png": "[encoded data removed]",
      "text/plain": [
       "<Figure size 432x288 with 1 Axes>"
      ]
     },
     "metadata": {
      "needs_background": "light"
     },
     "output_type": "display_data"
    }
   ],
   "source": [
    "image = np.random.random((10, 100, 100))\n",
    "processed_image = cle.gaussian_blur(image, sigma_x=10)\n",
    "cle.imshow(processed_image)"
   ]
  },
  {
   "cell_type": "markdown",
   "id": "35144de3",
   "metadata": {},
   "source": [
    "For comparing the performance of multiple devices, run executions of operations multiple times to get a good impression of general performance. Single individual time measurements may be misleading. You can either program your own for-loop or use [timeit](https://docs.python.org/3/library/timeit.html) which can automate that for you./"
   ]
  },
  {
   "cell_type": "code",
   "execution_count": 15,
   "id": "f86ab500",
   "metadata": {},
   "outputs": [
    {
     "data": {
      "text/plain": [
       "<gfx902 on Platform: AMD Accelerated Parallel Processing (2 refs)>"
      ]
     },
     "execution_count": 15,
     "metadata": {},
     "output_type": "execute_result"
    }
   ],
   "source": [
    "cle.select_device('gfx')"
   ]
  },
  {
   "cell_type": "code",
   "execution_count": 16,
   "id": "c1c24479",
   "metadata": {},
   "outputs": [
    {
     "name": "stdout",
     "output_type": "stream",
     "text": [
      "3.97 ms ± 223 µs per loop (mean ± std. dev. of 7 runs, 100 loops each)\n"
     ]
    }
   ],
   "source": [
    "%%timeit\n",
    "cle.gaussian_blur(image, sigma_x=10)"
   ]
  },
  {
   "cell_type": "code",
   "execution_count": 17,
   "id": "14a39583",
   "metadata": {},
   "outputs": [
    {
     "data": {
      "text/plain": [
       "<NVIDIA GeForce RTX 3050 Ti Laptop GPU on Platform: NVIDIA CUDA (1 refs)>"
      ]
     },
     "execution_count": 17,
     "metadata": {},
     "output_type": "execute_result"
    }
   ],
   "source": [
    "cle.select_device(\"RTX\")"
   ]
  },
  {
   "cell_type": "code",
   "execution_count": 18,
   "id": "37a8ea27",
   "metadata": {},
   "outputs": [
    {
     "name": "stdout",
     "output_type": "stream",
     "text": [
      "2.54 ms ± 502 µs per loop (mean ± std. dev. of 7 runs, 100 loops each)\n"
     ]
    }
   ],
   "source": [
    "%%timeit\n",
    "cle.gaussian_blur(image, sigma_x=10)"
   ]
  },
  {
   "cell_type": "markdown",
   "id": "8b4c77f2",
   "metadata": {},
   "source": [
    "## cl_info\n",
    "`cl_info` outputs all information about available hardware"
   ]
  },
  {
   "cell_type": "code",
   "execution_count": 20,
   "id": "d17d0f09",
   "metadata": {
    "scrolled": false
   },
   "outputs": [
    {
     "name": "stdout",
     "output_type": "stream",
     "text": [
      "NVIDIA CUDA\n",
      "EXTENSIONS:cl_khr_global_int32_base_atomics cl_khr_global_int32_extended_atomics cl_khr_local_int32_base_atomics cl_khr_local_int32_extended_atomics cl_khr_fp64 cl_khr_3d_image_writes cl_khr_byte_addressable_store cl_khr_icd cl_khr_gl_sharing cl_nv_compiler_options cl_nv_device_attribute_query cl_nv_pragma_unroll cl_nv_d3d10_sharing cl_khr_d3d10_sharing cl_nv_d3d11_sharing cl_nv_copy_opts cl_nv_create_buffer cl_khr_int64_base_atomics cl_khr_int64_extended_atomics cl_khr_device_uuid\n",
      "EXTENSIONS_WITH_VERSION:[<pyopencl._cl.NameVersion object at 0x000002554B5110B0>, <pyopencl._cl.NameVersion object at 0x000002554B511130>, <pyopencl._cl.NameVersion object at 0x000002554B5111B0>, <pyopencl._cl.NameVersion object at 0x000002554B5111F0>, <pyopencl._cl.NameVersion object at 0x000002554B5112B0>, <pyopencl._cl.NameVersion object at 0x000002554B5112F0>, <pyopencl._cl.NameVersion object at 0x000002554B511330>, <pyopencl._cl.NameVersion object at 0x000002554B511630>, <pyopencl._cl.NameVersion object at 0x000002554B5116F0>, <pyopencl._cl.NameVersion object at 0x000002554B5113B0>, <pyopencl._cl.NameVersion object at 0x000002554B511770>, <pyopencl._cl.NameVersion object at 0x000002554B5117F0>, <pyopencl._cl.NameVersion object at 0x000002554B511870>, <pyopencl._cl.NameVersion object at 0x000002554B5118F0>, <pyopencl._cl.NameVersion object at 0x000002554B511930>, <pyopencl._cl.NameVersion object at 0x000002554B511970>, <pyopencl._cl.NameVersion object at 0x000002554B5119F0>, <pyopencl._cl.NameVersion object at 0x000002554B511A30>, <pyopencl._cl.NameVersion object at 0x000002554B511A70>, <pyopencl._cl.NameVersion object at 0x000002554B511AF0>]\n",
      "HOST_TIMER_RESOLUTION:0\n",
      "NAME:NVIDIA CUDA\n",
      "NUMERIC_VERSION:12582912\n",
      "PROFILE:FULL_PROFILE\n",
      "VENDOR:NVIDIA Corporation\n",
      "VERSION:OpenCL 3.0 CUDA 11.3.121\n",
      "\n",
      "\n",
      "    NVIDIA GeForce RTX 3050 Ti Laptop GPU\n",
      "       ADDRESS_BITS:64\n",
      "       ATOMIC_FENCE_CAPABILITIES:19\n",
      "       ATOMIC_MEMORY_CAPABILITIES:17\n",
      "       ATTRIBUTE_ASYNC_ENGINE_COUNT_NV:5\n",
      "       AVAILABLE:1\n",
      "       AVAILABLE_ASYNC_QUEUES_AMD:None\n",
      "       BOARD_NAME_AMD:None\n",
      "       BUILT_IN_KERNELS:\n",
      "       BUILT_IN_KERNELS_WITH_VERSION:[]\n",
      "       COMPILER_AVAILABLE:1\n",
      "       COMPUTE_CAPABILITY_MAJOR_NV:8\n",
      "       COMPUTE_CAPABILITY_MINOR_NV:6\n",
      "       DEVICE_ENQUEUE_CAPABILITIES:2564095475712\n",
      "       DOUBLE_FP_CONFIG:63\n",
      "       DRIVER_VERSION:466.77\n",
      "       ENDIAN_LITTLE:1\n",
      "       ERROR_CORRECTION_SUPPORT:0\n",
      "       EXECUTION_CAPABILITIES:1\n",
      "       EXTENSIONS:cl_khr_global_int32_base_atomics cl_khr_global_int32_extended_atomics cl_khr_local_int32_base_atomics cl_khr_local_int32_extended_atomics cl_khr_fp64 cl_khr_3d_image_writes cl_khr_byte_addressable_store cl_khr_icd cl_khr_gl_sharing cl_nv_compiler_options cl_nv_device_attribute_query cl_nv_pragma_unroll cl_nv_d3d10_sharing cl_khr_d3d10_sharing cl_nv_d3d11_sharing cl_nv_copy_opts cl_nv_create_buffer cl_khr_int64_base_atomics cl_khr_int64_extended_atomics cl_khr_device_uuid\n",
      "       EXTENSIONS_WITH_VERSION:[<pyopencl._cl.NameVersion object at 0x000002554B511B30>, <pyopencl._cl.NameVersion object at 0x000002554B5110B0>, <pyopencl._cl.NameVersion object at 0x000002554B511130>, <pyopencl._cl.NameVersion object at 0x000002554B5111B0>, <pyopencl._cl.NameVersion object at 0x000002554B5111F0>, <pyopencl._cl.NameVersion object at 0x000002554B5112F0>, <pyopencl._cl.NameVersion object at 0x000002554B511330>, <pyopencl._cl.NameVersion object at 0x000002554B511630>, <pyopencl._cl.NameVersion object at 0x000002554B5116F0>, <pyopencl._cl.NameVersion object at 0x000002554B5112B0>, <pyopencl._cl.NameVersion object at 0x000002554B5113B0>, <pyopencl._cl.NameVersion object at 0x000002554B511770>, <pyopencl._cl.NameVersion object at 0x000002554B5117F0>, <pyopencl._cl.NameVersion object at 0x000002554B511870>, <pyopencl._cl.NameVersion object at 0x000002554B5118F0>, <pyopencl._cl.NameVersion object at 0x000002554B511930>, <pyopencl._cl.NameVersion object at 0x000002554B511970>, <pyopencl._cl.NameVersion object at 0x000002554B5119F0>, <pyopencl._cl.NameVersion object at 0x000002554B511A30>, <pyopencl._cl.NameVersion object at 0x000002554B511A70>]\n",
      "       EXT_MEM_PADDING_IN_BYTES_QCOM:None\n",
      "       GENERIC_ADDRESS_SPACE_SUPPORT:0\n",
      "       GFXIP_MAJOR_AMD:None\n",
      "       GFXIP_MINOR_AMD:None\n",
      "       GLOBAL_FREE_MEMORY_AMD:None\n",
      "       GLOBAL_MEM_CACHELINE_SIZE:128\n",
      "       GLOBAL_MEM_CACHE_SIZE:573440\n",
      "       GLOBAL_MEM_CACHE_TYPE:2\n",
      "       GLOBAL_MEM_CHANNELS_AMD:None\n",
      "       GLOBAL_MEM_CHANNEL_BANKS_AMD:None\n",
      "       GLOBAL_MEM_CHANNEL_BANK_WIDTH_AMD:None\n",
      "       GLOBAL_MEM_SIZE:4294967296\n",
      "       GLOBAL_VARIABLE_PREFERRED_TOTAL_SIZE:0\n",
      "       GPU_OVERLAP_NV:1\n",
      "       HALF_FP_CONFIG:None\n",
      "       HOST_UNIFIED_MEMORY:0\n",
      "       ILS_WITH_VERSION:[]\n",
      "       IL_VERSION:\n",
      "       IMAGE2D_MAX_HEIGHT:32768\n",
      "       IMAGE2D_MAX_WIDTH:32768\n",
      "       IMAGE3D_MAX_DEPTH:16384\n",
      "       IMAGE3D_MAX_HEIGHT:16384\n",
      "       IMAGE3D_MAX_WIDTH:16384\n",
      "       IMAGE_MAX_ARRAY_SIZE:2048\n",
      "       IMAGE_MAX_BUFFER_SIZE:268435456\n",
      "       IMAGE_SUPPORT:1\n",
      "       INTEGRATED_MEMORY_NV:0\n",
      "       KERNEL_EXEC_TIMEOUT_NV:1\n",
      "       LINKER_AVAILABLE:1\n",
      "       LOCAL_MEM_BANKS_AMD:None\n",
      "       LOCAL_MEM_SIZE:49152\n",
      "       LOCAL_MEM_SIZE_PER_COMPUTE_UNIT_AMD:None\n",
      "       LOCAL_MEM_TYPE:1\n",
      "       MAX_CLOCK_FREQUENCY:1035\n",
      "       MAX_COMPUTE_UNITS:20\n",
      "       MAX_CONSTANT_ARGS:9\n",
      "       MAX_CONSTANT_BUFFER_SIZE:65536\n",
      "       MAX_GLOBAL_VARIABLE_SIZE:0\n",
      "       MAX_MEM_ALLOC_SIZE:1073741824\n",
      "       MAX_NUM_SUB_GROUPS:0\n",
      "       MAX_ON_DEVICE_EVENTS:0\n",
      "       MAX_ON_DEVICE_QUEUES:0\n",
      "       MAX_PARAMETER_SIZE:4352\n",
      "       MAX_PIPE_ARGS:0\n",
      "       MAX_READ_IMAGE_ARGS:256\n",
      "       MAX_READ_WRITE_IMAGE_ARGS:0\n",
      "       MAX_SAMPLERS:32\n",
      "       MAX_WORK_GROUP_SIZE:1024\n",
      "       MAX_WORK_GROUP_SIZE_AMD:None\n",
      "       MAX_WORK_ITEM_DIMENSIONS:3\n",
      "       MAX_WORK_ITEM_SIZES:[1024, 1024, 64]\n",
      "       MAX_WRITE_IMAGE_ARGS:32\n",
      "       MEM_BASE_ADDR_ALIGN:4096\n",
      "       ME_VERSION_INTEL:None\n",
      "       MIN_DATA_TYPE_ALIGN_SIZE:128\n",
      "       NAME:NVIDIA GeForce RTX 3050 Ti Laptop GPU\n",
      "       NATIVE_VECTOR_WIDTH_CHAR:1\n",
      "       NATIVE_VECTOR_WIDTH_DOUBLE:1\n",
      "       NATIVE_VECTOR_WIDTH_FLOAT:1\n",
      "       NATIVE_VECTOR_WIDTH_HALF:0\n",
      "       NATIVE_VECTOR_WIDTH_INT:1\n",
      "       NATIVE_VECTOR_WIDTH_LONG:1\n",
      "       NATIVE_VECTOR_WIDTH_SHORT:1\n",
      "       NON_UNIFORM_WORK_GROUP_SUPPORT:0\n",
      "       NUMERIC_VERSION:12582912\n",
      "       NUM_SIMULTANEOUS_INTEROPS_INTEL:None\n",
      "       OPENCL_C_ALL_VERSIONS:[<pyopencl._cl.NameVersion object at 0x000002554B511BF0>, <pyopencl._cl.NameVersion object at 0x000002554B511AF0>, <pyopencl._cl.NameVersion object at 0x000002554B511C30>, <pyopencl._cl.NameVersion object at 0x000002554B511CB0>]\n",
      "       OPENCL_C_FEATURES:[<pyopencl._cl.NameVersion object at 0x000002554B511CF0>, <pyopencl._cl.NameVersion object at 0x000002554B511D70>, <pyopencl._cl.NameVersion object at 0x000002554B511DF0>, <pyopencl._cl.NameVersion object at 0x000002554B511E30>]\n",
      "       OPENCL_C_VERSION:OpenCL C 1.2 \n",
      "       PAGE_SIZE_QCOM:None\n",
      "       PARTITION_AFFINITY_DOMAIN:[0]\n",
      "       PARTITION_MAX_SUB_DEVICES:1\n",
      "       PARTITION_PROPERTIES:[0]\n",
      "       PARTITION_TYPE:[0]\n",
      "       PCIE_ID_AMD:None\n",
      "       PCI_BUS_ID_NV:1\n",
      "       PCI_DOMAIN_ID_NV:0\n",
      "       PCI_SLOT_ID_NV:0\n",
      "       PIPE_MAX_ACTIVE_RESERVATIONS:0\n",
      "       PIPE_MAX_PACKET_SIZE:0\n",
      "       PIPE_SUPPORT:0\n",
      "       PLATFORM:<pyopencl.Platform 'NVIDIA CUDA' at 0x2551805f6b0>\n",
      "       PREFERRED_CONSTANT_BUFFER_SIZE_AMD:None\n",
      "       PREFERRED_GLOBAL_ATOMIC_ALIGNMENT:0\n",
      "       PREFERRED_INTEROP_USER_SYNC:0\n",
      "       PREFERRED_LOCAL_ATOMIC_ALIGNMENT:0\n",
      "       PREFERRED_PLATFORM_ATOMIC_ALIGNMENT:0\n",
      "       PREFERRED_VECTOR_WIDTH_CHAR:1\n",
      "       PREFERRED_VECTOR_WIDTH_DOUBLE:1\n",
      "       PREFERRED_VECTOR_WIDTH_FLOAT:1\n",
      "       PREFERRED_VECTOR_WIDTH_HALF:0\n",
      "       PREFERRED_VECTOR_WIDTH_INT:1\n",
      "       PREFERRED_VECTOR_WIDTH_LONG:1\n",
      "       PREFERRED_VECTOR_WIDTH_SHORT:1\n",
      "       PREFERRED_WORK_GROUP_SIZE_AMD:None\n",
      "       PREFERRED_WORK_GROUP_SIZE_MULTIPLE:32\n",
      "       PRINTF_BUFFER_SIZE:None\n",
      "       PROFILE:FULL_PROFILE\n",
      "       PROFILING_TIMER_OFFSET_AMD:None\n",
      "       PROFILING_TIMER_RESOLUTION:1000\n",
      "       QUEUE_ON_DEVICE_MAX_SIZE:0\n",
      "       QUEUE_ON_DEVICE_PREFERRED_SIZE:0\n",
      "       QUEUE_ON_DEVICE_PROPERTIES:0\n",
      "       QUEUE_ON_HOST_PROPERTIES:3\n",
      "       QUEUE_PROPERTIES:3\n",
      "       REFERENCE_COUNT:1\n",
      "       REGISTERS_PER_BLOCK_NV:65536\n",
      "       SIMD_INSTRUCTION_WIDTH_AMD:None\n",
      "       SIMD_PER_COMPUTE_UNIT_AMD:None\n",
      "       SIMD_WIDTH_AMD:None\n",
      "       SIMULTANEOUS_INTEROPS_INTEL:None\n",
      "       SINGLE_FP_CONFIG:191\n",
      "       SPIR_VERSIONS:None\n",
      "       SUB_GROUP_INDEPENDENT_FORWARD_PROGRESS:0\n",
      "       SVM_CAPABILITIES:1\n",
      "       THREAD_TRACE_SUPPORTED_AMD:None\n",
      "       TOPOLOGY_AMD:None\n",
      "       TYPE:4\n",
      "       VENDOR:NVIDIA Corporation\n",
      "       VENDOR_ID:4318\n",
      "       VERSION:OpenCL 3.0 CUDA\n",
      "       WARP_SIZE_NV:32\n",
      "       WAVEFRONT_WIDTH_AMD:None\n",
      "       WORK_GROUP_COLLECTIVE_FUNCTIONS_SUPPORT:0\n",
      "\n",
      "\n",
      "\n",
      "\n",
      "AMD Accelerated Parallel Processing\n",
      "EXTENSIONS:cl_khr_icd cl_khr_d3d10_sharing cl_khr_d3d11_sharing cl_khr_dx9_media_sharing cl_amd_event_callback cl_amd_offline_devices \n",
      "EXTENSIONS_WITH_VERSION:None\n",
      "HOST_TIMER_RESOLUTION:100\n",
      "NAME:AMD Accelerated Parallel Processing\n",
      "NUMERIC_VERSION:None\n",
      "PROFILE:FULL_PROFILE\n",
      "VENDOR:Advanced Micro Devices, Inc.\n",
      "VERSION:OpenCL 2.1 AMD-APP (3180.7)\n",
      "\n",
      "\n",
      "    gfx902\n",
      "       ADDRESS_BITS:64\n",
      "       ATOMIC_FENCE_CAPABILITIES:None\n",
      "       ATOMIC_MEMORY_CAPABILITIES:None\n",
      "       ATTRIBUTE_ASYNC_ENGINE_COUNT_NV:None\n",
      "       AVAILABLE:1\n",
      "       AVAILABLE_ASYNC_QUEUES_AMD:2\n",
      "       BOARD_NAME_AMD:AMD Radeon(TM) Graphics\n",
      "       BUILT_IN_KERNELS:\n",
      "       BUILT_IN_KERNELS_WITH_VERSION:None\n",
      "       COMPILER_AVAILABLE:1\n",
      "       COMPUTE_CAPABILITY_MAJOR_NV:None\n",
      "       COMPUTE_CAPABILITY_MINOR_NV:None\n",
      "       DEVICE_ENQUEUE_CAPABILITIES:None\n",
      "       DOUBLE_FP_CONFIG:63\n",
      "       DRIVER_VERSION:3180.7 (PAL,HSAIL)\n",
      "       ENDIAN_LITTLE:1\n",
      "       ERROR_CORRECTION_SUPPORT:0\n",
      "       EXECUTION_CAPABILITIES:1\n",
      "       EXTENSIONS:cl_khr_fp64 cl_amd_fp64 cl_khr_global_int32_base_atomics cl_khr_global_int32_extended_atomics cl_khr_local_int32_base_atomics cl_khr_local_int32_extended_atomics cl_khr_int64_base_atomics cl_khr_int64_extended_atomics cl_khr_3d_image_writes cl_khr_byte_addressable_store cl_khr_fp16 cl_khr_gl_sharing cl_khr_gl_depth_images cl_amd_device_attribute_query cl_amd_vec3 cl_amd_printf cl_amd_media_ops cl_amd_media_ops2 cl_amd_popcnt cl_khr_d3d10_sharing cl_khr_d3d11_sharing cl_khr_dx9_media_sharing cl_khr_image2d_from_buffer cl_khr_subgroups cl_khr_gl_event cl_khr_depth_images cl_khr_mipmap_image cl_khr_mipmap_image_writes cl_amd_liquid_flash cl_amd_copy_buffer_p2p cl_amd_planar_yuv\n",
      "       EXTENSIONS_WITH_VERSION:None\n",
      "       EXT_MEM_PADDING_IN_BYTES_QCOM:None\n",
      "       GENERIC_ADDRESS_SPACE_SUPPORT:None\n",
      "       GFXIP_MAJOR_AMD:9\n",
      "       GFXIP_MINOR_AMD:2\n",
      "       GLOBAL_FREE_MEMORY_AMD:[12600032]\n",
      "       GLOBAL_MEM_CACHELINE_SIZE:64\n",
      "       GLOBAL_MEM_CACHE_SIZE:16384\n",
      "       GLOBAL_MEM_CACHE_TYPE:2\n",
      "       GLOBAL_MEM_CHANNELS_AMD:4\n",
      "       GLOBAL_MEM_CHANNEL_BANKS_AMD:4\n",
      "       GLOBAL_MEM_CHANNEL_BANK_WIDTH_AMD:256\n",
      "       GLOBAL_MEM_SIZE:12981370880\n",
      "       GLOBAL_VARIABLE_PREFERRED_TOTAL_SIZE:12981370880\n",
      "       GPU_OVERLAP_NV:None\n",
      "       HALF_FP_CONFIG:0\n",
      "       HOST_UNIFIED_MEMORY:1\n",
      "       ILS_WITH_VERSION:None\n",
      "       IL_VERSION:None\n",
      "       IMAGE2D_MAX_HEIGHT:16384\n",
      "       IMAGE2D_MAX_WIDTH:16384\n",
      "       IMAGE3D_MAX_DEPTH:2048\n",
      "       IMAGE3D_MAX_HEIGHT:2048\n",
      "       IMAGE3D_MAX_WIDTH:2048\n",
      "       IMAGE_MAX_ARRAY_SIZE:2048\n",
      "       IMAGE_MAX_BUFFER_SIZE:134217728\n",
      "       IMAGE_SUPPORT:1\n",
      "       INTEGRATED_MEMORY_NV:None\n",
      "       KERNEL_EXEC_TIMEOUT_NV:None\n",
      "       LINKER_AVAILABLE:1\n",
      "       LOCAL_MEM_BANKS_AMD:32\n",
      "       LOCAL_MEM_SIZE:32768\n",
      "       LOCAL_MEM_SIZE_PER_COMPUTE_UNIT_AMD:65536\n",
      "       LOCAL_MEM_TYPE:1\n",
      "       MAX_CLOCK_FREQUENCY:2100\n",
      "       MAX_COMPUTE_UNITS:8\n",
      "       MAX_CONSTANT_ARGS:8\n",
      "       MAX_CONSTANT_BUFFER_SIZE:10577824972\n",
      "       MAX_GLOBAL_VARIABLE_SIZE:9520042240\n",
      "       MAX_MEM_ALLOC_SIZE:10577824972\n",
      "       MAX_NUM_SUB_GROUPS:None\n",
      "       MAX_ON_DEVICE_EVENTS:1024\n",
      "       MAX_ON_DEVICE_QUEUES:1\n",
      "       MAX_PARAMETER_SIZE:1024\n",
      "       MAX_PIPE_ARGS:16\n",
      "       MAX_READ_IMAGE_ARGS:128\n",
      "       MAX_READ_WRITE_IMAGE_ARGS:64\n",
      "       MAX_SAMPLERS:16\n",
      "       MAX_WORK_GROUP_SIZE:256\n",
      "       MAX_WORK_GROUP_SIZE_AMD:None\n",
      "       MAX_WORK_ITEM_DIMENSIONS:3\n",
      "       MAX_WORK_ITEM_SIZES:[1024, 1024, 1024]\n",
      "       MAX_WRITE_IMAGE_ARGS:64\n",
      "       MEM_BASE_ADDR_ALIGN:2048\n",
      "       ME_VERSION_INTEL:None\n",
      "       MIN_DATA_TYPE_ALIGN_SIZE:128\n",
      "       NAME:gfx902\n",
      "       NATIVE_VECTOR_WIDTH_CHAR:4\n",
      "       NATIVE_VECTOR_WIDTH_DOUBLE:1\n",
      "       NATIVE_VECTOR_WIDTH_FLOAT:1\n",
      "       NATIVE_VECTOR_WIDTH_HALF:1\n",
      "       NATIVE_VECTOR_WIDTH_INT:1\n",
      "       NATIVE_VECTOR_WIDTH_LONG:1\n",
      "       NATIVE_VECTOR_WIDTH_SHORT:2\n",
      "       NON_UNIFORM_WORK_GROUP_SUPPORT:None\n",
      "       NUMERIC_VERSION:None\n",
      "       NUM_SIMULTANEOUS_INTEROPS_INTEL:None\n",
      "       OPENCL_C_ALL_VERSIONS:None\n",
      "       OPENCL_C_FEATURES:None\n",
      "       OPENCL_C_VERSION:OpenCL C 2.0 \n",
      "       PAGE_SIZE_QCOM:None\n",
      "       PARTITION_AFFINITY_DOMAIN:[0]\n",
      "       PARTITION_MAX_SUB_DEVICES:8\n",
      "       PARTITION_PROPERTIES:[0]\n",
      "       PARTITION_TYPE:[0]\n",
      "       PCIE_ID_AMD:None\n",
      "       PCI_BUS_ID_NV:None\n",
      "       PCI_DOMAIN_ID_NV:None\n",
      "       PCI_SLOT_ID_NV:None\n",
      "       PIPE_MAX_ACTIVE_RESERVATIONS:16\n",
      "       PIPE_MAX_PACKET_SIZE:1987890380\n",
      "       PIPE_SUPPORT:None\n",
      "       PLATFORM:<pyopencl.Platform 'AMD Accelerated Parallel Processing' at 0x7ffd9d15a490>\n",
      "       PREFERRED_CONSTANT_BUFFER_SIZE_AMD:None\n",
      "       PREFERRED_GLOBAL_ATOMIC_ALIGNMENT:0\n",
      "       PREFERRED_INTEROP_USER_SYNC:1\n",
      "       PREFERRED_LOCAL_ATOMIC_ALIGNMENT:0\n",
      "       PREFERRED_PLATFORM_ATOMIC_ALIGNMENT:0\n",
      "       PREFERRED_VECTOR_WIDTH_CHAR:4\n",
      "       PREFERRED_VECTOR_WIDTH_DOUBLE:1\n",
      "       PREFERRED_VECTOR_WIDTH_FLOAT:1\n",
      "       PREFERRED_VECTOR_WIDTH_HALF:1\n",
      "       PREFERRED_VECTOR_WIDTH_INT:1\n",
      "       PREFERRED_VECTOR_WIDTH_LONG:1\n",
      "       PREFERRED_VECTOR_WIDTH_SHORT:2\n",
      "       PREFERRED_WORK_GROUP_SIZE_AMD:None\n",
      "       PREFERRED_WORK_GROUP_SIZE_MULTIPLE:None\n",
      "       PRINTF_BUFFER_SIZE:None\n",
      "       PROFILE:FULL_PROFILE\n",
      "       PROFILING_TIMER_OFFSET_AMD:1627642789794715400\n",
      "       PROFILING_TIMER_RESOLUTION:1\n",
      "       QUEUE_ON_DEVICE_MAX_SIZE:8388608\n",
      "       QUEUE_ON_DEVICE_PREFERRED_SIZE:262144\n",
      "       QUEUE_ON_DEVICE_PROPERTIES:3\n",
      "       QUEUE_ON_HOST_PROPERTIES:2\n",
      "       QUEUE_PROPERTIES:2\n",
      "       REFERENCE_COUNT:1\n",
      "       REGISTERS_PER_BLOCK_NV:None\n",
      "       SIMD_INSTRUCTION_WIDTH_AMD:None\n",
      "       SIMD_PER_COMPUTE_UNIT_AMD:4\n",
      "       SIMD_WIDTH_AMD:None\n",
      "       SIMULTANEOUS_INTEROPS_INTEL:None\n",
      "       SINGLE_FP_CONFIG:190\n",
      "       SPIR_VERSIONS:1.2\n",
      "       SUB_GROUP_INDEPENDENT_FORWARD_PROGRESS:None\n",
      "       SVM_CAPABILITIES:3\n",
      "       THREAD_TRACE_SUPPORTED_AMD:1\n",
      "       TOPOLOGY_AMD:<pyopencl._cl.DeviceTopologyAmd object at 0x000002554B511AF0>\n",
      "       TYPE:4\n",
      "       VENDOR:Advanced Micro Devices, Inc.\n",
      "       VENDOR_ID:4098\n",
      "       VERSION:OpenCL 2.0 AMD-APP (3180.7)\n",
      "       WARP_SIZE_NV:None\n",
      "       WAVEFRONT_WIDTH_AMD:None\n",
      "       WORK_GROUP_COLLECTIVE_FUNCTIONS_SUPPORT:None\n",
      "\n",
      "\n",
      "\n",
      "\n",
      "Current device: NVIDIA GeForce RTX 3050 Ti Laptop GPU\n"
     ]
    }
   ],
   "source": [
    "print(cle.cl_info())"
   ]
  },
  {
   "cell_type": "code",
   "execution_count": null,
   "id": "32b648a7",
   "metadata": {},
   "outputs": [],
   "source": []
  }
 ],
 "metadata": {
  "kernelspec": {
   "display_name": "Python 3 (ipykernel)",
   "language": "python",
   "name": "python3"
  },
  "language_info": {
   "codemirror_mode": {
    "name": "ipython",
    "version": 3
   },
   "file_extension": ".py",
   "mimetype": "text/x-python",
   "name": "python",
   "nbconvert_exporter": "python",
   "pygments_lexer": "ipython3",
   "version": "3.8.5"
  }
 },
 "nbformat": 4,
 "nbformat_minor": 5
}
