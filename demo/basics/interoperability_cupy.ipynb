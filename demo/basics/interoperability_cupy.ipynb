{
 "cells": [
  {
   "cell_type": "markdown",
   "id": "9464d148",
   "metadata": {},
   "source": [
    "# Interoperability with cupy\n",
    "[cupy](https://cupy.dev) is another GPU-acceleration library that allows processing images. To make the best out of GPUs, we demonstrate here how cupy and clesperanto can be combined."
   ]
  },
  {
   "cell_type": "code",
   "execution_count": 1,
   "id": "eedee89f",
   "metadata": {},
   "outputs": [],
   "source": [
    "import numpy as np\n",
    "import cupy as cp\n",
    "import cupyx.scipy.ndimage as ndi\n",
    "import pyclesperanto_prototype as cle\n",
    "from skimage.io import imread"
   ]
  },
  {
   "cell_type": "markdown",
   "id": "528ec468",
   "metadata": {},
   "source": [
    "Let's start with a numpy-array and send it to cupy."
   ]
  },
  {
   "cell_type": "code",
   "execution_count": 2,
   "id": "844d14cc",
   "metadata": {},
   "outputs": [
    {
     "data": {
      "text/plain": [
       "(120, 160, 160)"
      ]
     },
     "execution_count": 2,
     "metadata": {},
     "output_type": "execute_result"
    }
   ],
   "source": [
    "np_data = imread('../../data/Haase_MRT_tfl3d1.tif')\n",
    "np_data.shape"
   ]
  },
  {
   "cell_type": "code",
   "execution_count": 3,
   "id": "5688550c",
   "metadata": {},
   "outputs": [
    {
     "data": {
      "text/plain": [
       "(120, 160, 160)"
      ]
     },
     "execution_count": 3,
     "metadata": {},
     "output_type": "execute_result"
    }
   ],
   "source": [
    "cp_data = cp.asarray(np_data)\n",
    "cp_data.shape"
   ]
  },
  {
   "cell_type": "markdown",
   "id": "6bbceaca",
   "metadata": {},
   "source": [
    "Next, we can apply a filter to the image in cupy."
   ]
  },
  {
   "cell_type": "code",
   "execution_count": 4,
   "id": "c86d249a",
   "metadata": {},
   "outputs": [
    {
     "data": {
      "text/plain": [
       "(120, 160, 160)"
      ]
     },
     "execution_count": 4,
     "metadata": {},
     "output_type": "execute_result"
    }
   ],
   "source": [
    "cp_filtered = ndi.gaussian_filter(cp_data, sigma=5)\n",
    "cp_filtered.shape"
   ]
  },
  {
   "cell_type": "markdown",
   "id": "02c35f2b",
   "metadata": {},
   "source": [
    "Just as an example, we can now threshold the image using `threshold_otsu` which is provided by clesperanto but not by cupy."
   ]
  },
  {
   "cell_type": "code",
   "execution_count": 5,
   "id": "8faa5574",
   "metadata": {},
   "outputs": [
    {
     "data": {
      "text/plain": [
       "(120, 160, 160)"
      ]
     },
     "execution_count": 5,
     "metadata": {},
     "output_type": "execute_result"
    }
   ],
   "source": [
    "cl_binary = cle.threshold_otsu(cp_filtered)\n",
    "cl_binary.shape"
   ]
  },
  {
   "cell_type": "markdown",
   "id": "c7f2af3b",
   "metadata": {},
   "source": [
    "clesperanto also comes with a function for visualizing data"
   ]
  },
  {
   "cell_type": "code",
   "execution_count": 6,
   "id": "ab453d2c",
   "metadata": {},
   "outputs": [
    {
     "name": "stdout",
     "output_type": "stream",
     "text": [
      "0.0\n",
      "1.0\n"
     ]
    },
    {
     "data": {
      "image/png": "[encoded data removed]",
      "text/plain": [
       "<Figure size 432x288 with 1 Axes>"
      ]
     },
     "metadata": {
      "needs_background": "light"
     },
     "output_type": "display_data"
    }
   ],
   "source": [
    "print(cl_binary.min())\n",
    "print(cl_binary.max())\n",
    "cle.imshow(cl_binary)"
   ]
  },
  {
   "cell_type": "markdown",
   "id": "1f1c63e5",
   "metadata": {},
   "source": [
    "In order to get the image back to cupy, we need to do this:"
   ]
  },
  {
   "cell_type": "code",
   "execution_count": 7,
   "id": "dd128dba",
   "metadata": {},
   "outputs": [
    {
     "data": {
      "text/plain": [
       "(120, 160, 160)"
      ]
     },
     "execution_count": 7,
     "metadata": {},
     "output_type": "execute_result"
    }
   ],
   "source": [
    "cu_binary = cp.asarray(cl_binary)\n",
    "cu_edges = ndi.sobel(cu_binary, output=float)\n",
    "cu_edges.shape"
   ]
  },
  {
   "cell_type": "markdown",
   "id": "21e34a79",
   "metadata": {},
   "source": [
    "A cupy-image can also be visualized using clesperantos imshow:"
   ]
  },
  {
   "cell_type": "code",
   "execution_count": 8,
   "id": "d6e52357",
   "metadata": {},
   "outputs": [
    {
     "data": {
      "image/png": "[encoded data removed]",
      "text/plain": [
       "<Figure size 432x288 with 1 Axes>"
      ]
     },
     "metadata": {
      "needs_background": "light"
     },
     "output_type": "display_data"
    }
   ],
   "source": [
    "cle.imshow(cu_edges)"
   ]
  },
  {
   "cell_type": "markdown",
   "id": "d9ad3a83",
   "metadata": {},
   "source": [
    "## Final remark\n",
    "Keep in mind that when using clesperanto and cupy in combination, data is transferred multiple times between GPU and CPU. Try to minimize data transfer and run as many operations as possible in a row using the same library."
   ]
  },
  {
   "cell_type": "code",
   "execution_count": null,
   "id": "850494cd",
   "metadata": {},
   "outputs": [],
   "source": []
  }
 ],
 "metadata": {
  "kernelspec": {
   "display_name": "Python 3 (ipykernel)",
   "language": "python",
   "name": "python3"
  },
  "language_info": {
   "codemirror_mode": {
    "name": "ipython",
    "version": 3
   },
   "file_extension": ".py",
   "mimetype": "text/x-python",
   "name": "python",
   "nbconvert_exporter": "python",
   "pygments_lexer": "ipython3",
   "version": "3.8.5"
  }
 },
 "nbformat": 4,
 "nbformat_minor": 5
}
